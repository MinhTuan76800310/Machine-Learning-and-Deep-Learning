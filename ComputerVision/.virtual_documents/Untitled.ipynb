





import numpy as np





'''
@func: Create an array with an initialize value is 1
@arg: 
    (n): 1 dms array with arg element
    ((a,b)): 2 dms array with a rows, b cols 
'''
arr2 = np.ones((2,5))
arr2.ndim

arr1 = np.ones(5)
arr1.shape











arr = np.random.randint(low=0, high=100, size=(5,5))
arr














import matplotlib.pyplot as plt
%matplotlib inline

from PIL import Image

pic = Image.open('./Computer-Vision-with-Python/Computer-Vision-with-Python/DATA/00-puppy.jpg')
# pic is JpegImageFile
pic





pic_array_dis = np.copy(pic_array)
plt.imshow(pic_array_dis)





pic_array = np.asarray(pic)
pic_array.shape





slc_arr = np.copy(pic_array)
slc_arr[:;:;0] = 0 # red chanel
slc_arr[:;:;1] = 0 # green chanel
plt.imshow(slc_arr)



