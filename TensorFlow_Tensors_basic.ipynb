{
  "nbformat": 4,
  "nbformat_minor": 0,
  "metadata": {
    "colab": {
      "provenance": [],
      "include_colab_link": true
    },
    "kernelspec": {
      "name": "python3",
      "display_name": "Python 3"
    },
    "language_info": {
      "name": "python"
    }
  },
  "cells": [
    {
      "cell_type": "markdown",
      "metadata": {
        "id": "view-in-github",
        "colab_type": "text"
      },
      "source": [
        "<a href=\"https://colab.research.google.com/github/MinhTuan76800310/Machine-Learning-and-Deep-Learning/blob/main/TensorFlow_Tensors_basic.ipynb\" target=\"_parent\"><img src=\"https://colab.research.google.com/assets/colab-badge.svg\" alt=\"Open In Colab\"/></a>"
      ]
    },
    {
      "cell_type": "markdown",
      "source": [
        "Import library"
      ],
      "metadata": {
        "id": "n-YGN0hBkb0M"
      }
    },
    {
      "cell_type": "code",
      "source": [
        "import tensorflow as tf\n",
        "import numpy as np"
      ],
      "metadata": {
        "id": "s8eWaR7m4XFz"
      },
      "execution_count": 281,
      "outputs": []
    },
    {
      "cell_type": "markdown",
      "source": [
        "Create random number in range"
      ],
      "metadata": {
        "id": "SWHAwVfukrEU"
      }
    },
    {
      "cell_type": "code",
      "source": [
        "tf.random.set_seed(5)\n",
        "print(tf.random.uniform(shape=[3,], maxval=5, dtype=tf.int32, seed=10))\n",
        "print(tf.random.uniform(shape=[3,], maxval=5, dtype=tf.int32, seed=10))\n",
        "print(tf.random.uniform(shape=[3,], maxval=5, dtype=tf.int32, seed=10))\n",
        "print(tf.random.uniform(shape=[3,], maxval=5, dtype=tf.int32, seed=10))"
      ],
      "metadata": {
        "colab": {
          "base_uri": "https://localhost:8080/"
        },
        "id": "mg9Lcf7XjI12",
        "outputId": "720dae08-e92f-4c45-b272-f284e7253a3a"
      },
      "execution_count": 282,
      "outputs": [
        {
          "output_type": "stream",
          "name": "stdout",
          "text": [
            "tf.Tensor([4 3 1], shape=(3,), dtype=int32)\n",
            "tf.Tensor([4 3 2], shape=(3,), dtype=int32)\n",
            "tf.Tensor([1 1 1], shape=(3,), dtype=int32)\n",
            "tf.Tensor([1 3 3], shape=(3,), dtype=int32)\n"
          ]
        }
      ]
    },
    {
      "cell_type": "code",
      "source": [
        "tf.random.set_seed(5)\n",
        "print(tf.random.uniform(shape=[3,], maxval=5, dtype=tf.int32, seed=10))\n",
        "print(tf.random.uniform(shape=[3,], maxval=5, dtype=tf.int32, seed=10))\n",
        "print(tf.random.uniform(shape=[3,], maxval=5, dtype=tf.int32, seed=10))\n",
        "print(tf.random.uniform(shape=[3,], maxval=5, dtype=tf.int32, seed=10))"
      ],
      "metadata": {
        "colab": {
          "base_uri": "https://localhost:8080/"
        },
        "id": "s5Iql2JxkGd8",
        "outputId": "6b71909f-7b52-4ff5-8755-6a3d19cf2ca3"
      },
      "execution_count": 283,
      "outputs": [
        {
          "output_type": "stream",
          "name": "stdout",
          "text": [
            "tf.Tensor([4 3 1], shape=(3,), dtype=int32)\n",
            "tf.Tensor([4 3 2], shape=(3,), dtype=int32)\n",
            "tf.Tensor([1 1 1], shape=(3,), dtype=int32)\n",
            "tf.Tensor([1 3 3], shape=(3,), dtype=int32)\n"
          ]
        }
      ]
    },
    {
      "cell_type": "markdown",
      "source": [
        "Constant"
      ],
      "metadata": {
        "id": "zMCrruGFlxH0"
      }
    },
    {
      "cell_type": "code",
      "source": [
        "tensor_zero_d = tf.constant(4)\n",
        "print(tensor_zero_d)"
      ],
      "metadata": {
        "id": "H1LP5m-J4Xls",
        "colab": {
          "base_uri": "https://localhost:8080/"
        },
        "outputId": "5fcb5c14-5e11-46d0-fca4-554f9e8ec63d"
      },
      "execution_count": 284,
      "outputs": [
        {
          "output_type": "stream",
          "name": "stdout",
          "text": [
            "tf.Tensor(4, shape=(), dtype=int32)\n"
          ]
        }
      ]
    },
    {
      "cell_type": "code",
      "source": [
        "tensor_bool = tf.constant([True,True,False])\n",
        "print(tensor_bool)"
      ],
      "metadata": {
        "colab": {
          "base_uri": "https://localhost:8080/"
        },
        "id": "ptbQqIrozkMa",
        "outputId": "05e72ad0-661e-4086-8f1b-0184a2956ea0"
      },
      "execution_count": 285,
      "outputs": [
        {
          "output_type": "stream",
          "name": "stdout",
          "text": [
            "tf.Tensor([ True  True False], shape=(3,), dtype=bool)\n"
          ]
        }
      ]
    },
    {
      "cell_type": "code",
      "source": [
        "tensor_string = tf.constant([\"hello world\",\"hi \"])\n",
        "print(tensor_string)"
      ],
      "metadata": {
        "colab": {
          "base_uri": "https://localhost:8080/"
        },
        "id": "zNIUJIR5zuiy",
        "outputId": "167dbc28-da10-4fb2-cdd4-67a443c4c07b"
      },
      "execution_count": 286,
      "outputs": [
        {
          "output_type": "stream",
          "name": "stdout",
          "text": [
            "tf.Tensor([b'hello world' b'hi '], shape=(2,), dtype=string)\n"
          ]
        }
      ]
    },
    {
      "cell_type": "markdown",
      "source": [
        "Casting"
      ],
      "metadata": {
        "id": "pD1wSVFSl_DR"
      }
    },
    {
      "cell_type": "code",
      "source": [
        "tensor_one_d = tf.constant([2,0.,-3,8,90],dtype=tf.float32)\n",
        "casted_tensor_one_d = tf.cast(tensor_one_d,dtype=tf.bool)\n",
        "print(tensor_one_d)\n",
        "print(casted_tensor_one_d)"
      ],
      "metadata": {
        "id": "Dl97XXSX4XoS",
        "colab": {
          "base_uri": "https://localhost:8080/"
        },
        "outputId": "9a294f2f-883d-406d-e712-91ac4099c7b6"
      },
      "execution_count": 287,
      "outputs": [
        {
          "output_type": "stream",
          "name": "stdout",
          "text": [
            "tf.Tensor([ 2.  0. -3.  8. 90.], shape=(5,), dtype=float32)\n",
            "tf.Tensor([ True False  True  True  True], shape=(5,), dtype=bool)\n"
          ]
        }
      ]
    },
    {
      "cell_type": "markdown",
      "source": [
        "Create array n dimension"
      ],
      "metadata": {
        "id": "xxGFqrDNmF4g"
      }
    },
    {
      "cell_type": "code",
      "source": [
        "tensor_two_d = tf.constant([\n",
        "    [1,2,0],\n",
        "    [3,5,-1],\n",
        "    [1,5,6],\n",
        "    [2,3,8]\n",
        "])\n",
        "print(tensor_two_d)"
      ],
      "metadata": {
        "id": "m4Ra5DJ24Xqz",
        "colab": {
          "base_uri": "https://localhost:8080/"
        },
        "outputId": "3a5062c8-228a-4765-8cab-d6370fde34af"
      },
      "execution_count": 288,
      "outputs": [
        {
          "output_type": "stream",
          "name": "stdout",
          "text": [
            "tf.Tensor(\n",
            "[[ 1  2  0]\n",
            " [ 3  5 -1]\n",
            " [ 1  5  6]\n",
            " [ 2  3  8]], shape=(4, 3), dtype=int32)\n"
          ]
        }
      ]
    },
    {
      "cell_type": "code",
      "source": [
        "tensor_three_d = tf.constant([\n",
        "    [[1,2,0],\n",
        "    [3,5,-1]],\n",
        "\n",
        "    [[10,2,0],\n",
        "    [1,0,2]],\n",
        "\n",
        "    [[5,8,0],\n",
        "    [2,7,0]],\n",
        "\n",
        "    [[2,1,9],\n",
        "    [4,-3,32]],\n",
        "\n",
        "])\n",
        "print(tensor_three_d)"
      ],
      "metadata": {
        "id": "BCQwZv1O4Xt1",
        "colab": {
          "base_uri": "https://localhost:8080/"
        },
        "outputId": "c57f53ca-7417-4f9b-ff22-7aeb5e886b03"
      },
      "execution_count": 289,
      "outputs": [
        {
          "output_type": "stream",
          "name": "stdout",
          "text": [
            "tf.Tensor(\n",
            "[[[ 1  2  0]\n",
            "  [ 3  5 -1]]\n",
            "\n",
            " [[10  2  0]\n",
            "  [ 1  0  2]]\n",
            "\n",
            " [[ 5  8  0]\n",
            "  [ 2  7  0]]\n",
            "\n",
            " [[ 2  1  9]\n",
            "  [ 4 -3 32]]], shape=(4, 2, 3), dtype=int32)\n"
          ]
        }
      ]
    },
    {
      "cell_type": "code",
      "source": [
        "print(tensor_three_d.ndim)"
      ],
      "metadata": {
        "colab": {
          "base_uri": "https://localhost:8080/"
        },
        "id": "HTkCD89iesbL",
        "outputId": "66580083-c206-466d-e38f-46e3c977099d"
      },
      "execution_count": 290,
      "outputs": [
        {
          "output_type": "stream",
          "name": "stdout",
          "text": [
            "3\n"
          ]
        }
      ]
    },
    {
      "cell_type": "code",
      "source": [
        "print(tensor_three_d.shape)"
      ],
      "metadata": {
        "colab": {
          "base_uri": "https://localhost:8080/"
        },
        "id": "SG27BtaxkEBQ",
        "outputId": "0e182c48-9b9a-4afa-893f-457eec854c1a"
      },
      "execution_count": 291,
      "outputs": [
        {
          "output_type": "stream",
          "name": "stdout",
          "text": [
            "(4, 2, 3)\n"
          ]
        }
      ]
    },
    {
      "cell_type": "code",
      "source": [
        "t = tf.constant([[1, 1, 1], [2, 2, 2]],)\n",
        "tf.size(t,out_type=tf.float32)"
      ],
      "metadata": {
        "colab": {
          "base_uri": "https://localhost:8080/"
        },
        "id": "zpt8qH1pS3Wv",
        "outputId": "1ee656a2-f8d8-421e-a76e-e6318f651583"
      },
      "execution_count": 292,
      "outputs": [
        {
          "output_type": "execute_result",
          "data": {
            "text/plain": [
              "<tf.Tensor: shape=(), dtype=float32, numpy=6.0>"
            ]
          },
          "metadata": {},
          "execution_count": 292
        }
      ]
    },
    {
      "cell_type": "code",
      "source": [
        "# shape of tensor 't' is [2, 2, 3]\n",
        "t = tf.constant([[1, 1, 1], [2, 2, 2]])\n",
        "tf.rank(t)  # 3"
      ],
      "metadata": {
        "colab": {
          "base_uri": "https://localhost:8080/"
        },
        "id": "c2byED-ESZgu",
        "outputId": "bfb84d3b-638b-4bf2-d95f-838e6fd0035b"
      },
      "execution_count": 293,
      "outputs": [
        {
          "output_type": "execute_result",
          "data": {
            "text/plain": [
              "<tf.Tensor: shape=(), dtype=int32, numpy=2>"
            ]
          },
          "metadata": {},
          "execution_count": 293
        }
      ]
    },
    {
      "cell_type": "code",
      "source": [
        "print(tf.shape(tensor_three_d))"
      ],
      "metadata": {
        "colab": {
          "base_uri": "https://localhost:8080/"
        },
        "id": "DYmQ8-t7kED1",
        "outputId": "5052fcf7-2214-40ba-d1cf-53bb5561e8f6"
      },
      "execution_count": 294,
      "outputs": [
        {
          "output_type": "stream",
          "name": "stdout",
          "text": [
            "tf.Tensor([4 2 3], shape=(3,), dtype=int32)\n"
          ]
        }
      ]
    },
    {
      "cell_type": "code",
      "source": [
        "tensor_four_d = tf.constant([\n",
        "\n",
        "[\n",
        "    [[1,2,0],\n",
        "    [3,5,-1]],\n",
        "\n",
        "    [[10,2,0],\n",
        "    [1,0,2]],\n",
        "\n",
        "    [[5,8,0],\n",
        "    [2,7,0]],\n",
        "\n",
        "    [[2,1,9],\n",
        "    [4,-3,32]],\n",
        "\n",
        "],\n",
        "\n",
        "[\n",
        "    [[13,26,0],\n",
        "    [3,5,-12]],\n",
        "\n",
        "    [[10,2,0],\n",
        "    [1,0,23]],\n",
        "\n",
        "    [[5,8,0],\n",
        "    [2,73,0]],\n",
        "\n",
        "    [[2,1,9],\n",
        "    [4,-30,32]],\n",
        "\n",
        "],\n",
        "\n",
        "[\n",
        "    [[103,26,0],\n",
        "    [3,50,-12]],\n",
        "\n",
        "    [[100,2,0],\n",
        "    [1,0,23]],\n",
        "\n",
        "    [[5,28,0],\n",
        "    [2,3,0]],\n",
        "\n",
        "    [[22,1,9],\n",
        "    [44,-320,32]],\n",
        "\n",
        "],\n",
        "\n",
        "])\n",
        "print(tensor_four_d)"
      ],
      "metadata": {
        "colab": {
          "base_uri": "https://localhost:8080/"
        },
        "id": "f1_2gwJxesd1",
        "outputId": "dd5d27c4-e5f9-46fe-d9e5-36912a74e6ff"
      },
      "execution_count": 295,
      "outputs": [
        {
          "output_type": "stream",
          "name": "stdout",
          "text": [
            "tf.Tensor(\n",
            "[[[[   1    2    0]\n",
            "   [   3    5   -1]]\n",
            "\n",
            "  [[  10    2    0]\n",
            "   [   1    0    2]]\n",
            "\n",
            "  [[   5    8    0]\n",
            "   [   2    7    0]]\n",
            "\n",
            "  [[   2    1    9]\n",
            "   [   4   -3   32]]]\n",
            "\n",
            "\n",
            " [[[  13   26    0]\n",
            "   [   3    5  -12]]\n",
            "\n",
            "  [[  10    2    0]\n",
            "   [   1    0   23]]\n",
            "\n",
            "  [[   5    8    0]\n",
            "   [   2   73    0]]\n",
            "\n",
            "  [[   2    1    9]\n",
            "   [   4  -30   32]]]\n",
            "\n",
            "\n",
            " [[[ 103   26    0]\n",
            "   [   3   50  -12]]\n",
            "\n",
            "  [[ 100    2    0]\n",
            "   [   1    0   23]]\n",
            "\n",
            "  [[   5   28    0]\n",
            "   [   2    3    0]]\n",
            "\n",
            "  [[  22    1    9]\n",
            "   [  44 -320   32]]]], shape=(3, 4, 2, 3), dtype=int32)\n"
          ]
        }
      ]
    },
    {
      "cell_type": "code",
      "source": [
        "import numpy as np"
      ],
      "metadata": {
        "id": "zemReLhTesgg"
      },
      "execution_count": 296,
      "outputs": []
    },
    {
      "cell_type": "code",
      "source": [
        "np_array = np.array([1,2,4])\n",
        "print(np_array)"
      ],
      "metadata": {
        "colab": {
          "base_uri": "https://localhost:8080/"
        },
        "id": "0L6D3yWGJc8N",
        "outputId": "46f705aa-26b6-423d-8b6f-558488c31cea"
      },
      "execution_count": 297,
      "outputs": [
        {
          "output_type": "stream",
          "name": "stdout",
          "text": [
            "[1 2 4]\n"
          ]
        }
      ]
    },
    {
      "cell_type": "code",
      "source": [
        "converted_tensor = tf.convert_to_tensor(np_array)\n",
        "print(converted_tensor)"
      ],
      "metadata": {
        "colab": {
          "base_uri": "https://localhost:8080/"
        },
        "id": "rJ-JQ7v1Jc_N",
        "outputId": "c1ec4ef9-73e8-4f87-e439-da20f0527385"
      },
      "execution_count": 298,
      "outputs": [
        {
          "output_type": "stream",
          "name": "stdout",
          "text": [
            "tf.Tensor([1 2 4], shape=(3,), dtype=int64)\n"
          ]
        }
      ]
    },
    {
      "cell_type": "code",
      "source": [
        "eye_tensor = tf.eye(\n",
        "    num_rows=5,\n",
        "    num_columns=None,\n",
        "    batch_shape=[2,4],\n",
        "    dtype=tf.dtypes.float32,\n",
        "    name=None\n",
        ")\n",
        "print(eye_tensor)"
      ],
      "metadata": {
        "colab": {
          "base_uri": "https://localhost:8080/"
        },
        "id": "JG3RpavHJdCI",
        "outputId": "f1a467fb-3220-473c-c42d-71d8928f220b"
      },
      "execution_count": 299,
      "outputs": [
        {
          "output_type": "stream",
          "name": "stdout",
          "text": [
            "tf.Tensor(\n",
            "[[[[1. 0. 0. 0. 0.]\n",
            "   [0. 1. 0. 0. 0.]\n",
            "   [0. 0. 1. 0. 0.]\n",
            "   [0. 0. 0. 1. 0.]\n",
            "   [0. 0. 0. 0. 1.]]\n",
            "\n",
            "  [[1. 0. 0. 0. 0.]\n",
            "   [0. 1. 0. 0. 0.]\n",
            "   [0. 0. 1. 0. 0.]\n",
            "   [0. 0. 0. 1. 0.]\n",
            "   [0. 0. 0. 0. 1.]]\n",
            "\n",
            "  [[1. 0. 0. 0. 0.]\n",
            "   [0. 1. 0. 0. 0.]\n",
            "   [0. 0. 1. 0. 0.]\n",
            "   [0. 0. 0. 1. 0.]\n",
            "   [0. 0. 0. 0. 1.]]\n",
            "\n",
            "  [[1. 0. 0. 0. 0.]\n",
            "   [0. 1. 0. 0. 0.]\n",
            "   [0. 0. 1. 0. 0.]\n",
            "   [0. 0. 0. 1. 0.]\n",
            "   [0. 0. 0. 0. 1.]]]\n",
            "\n",
            "\n",
            " [[[1. 0. 0. 0. 0.]\n",
            "   [0. 1. 0. 0. 0.]\n",
            "   [0. 0. 1. 0. 0.]\n",
            "   [0. 0. 0. 1. 0.]\n",
            "   [0. 0. 0. 0. 1.]]\n",
            "\n",
            "  [[1. 0. 0. 0. 0.]\n",
            "   [0. 1. 0. 0. 0.]\n",
            "   [0. 0. 1. 0. 0.]\n",
            "   [0. 0. 0. 1. 0.]\n",
            "   [0. 0. 0. 0. 1.]]\n",
            "\n",
            "  [[1. 0. 0. 0. 0.]\n",
            "   [0. 1. 0. 0. 0.]\n",
            "   [0. 0. 1. 0. 0.]\n",
            "   [0. 0. 0. 1. 0.]\n",
            "   [0. 0. 0. 0. 1.]]\n",
            "\n",
            "  [[1. 0. 0. 0. 0.]\n",
            "   [0. 1. 0. 0. 0.]\n",
            "   [0. 0. 1. 0. 0.]\n",
            "   [0. 0. 0. 1. 0.]\n",
            "   [0. 0. 0. 0. 1.]]]], shape=(2, 4, 5, 5), dtype=float32)\n"
          ]
        }
      ]
    },
    {
      "cell_type": "code",
      "source": [
        "fill_tensor = tf.fill(\n",
        "    [1,3,4],5, name=None\n",
        ")\n",
        "print(fill_tensor)"
      ],
      "metadata": {
        "colab": {
          "base_uri": "https://localhost:8080/"
        },
        "id": "3MWVijr7K86i",
        "outputId": "854e2a9d-7a01-497c-a648-17906e4ee0c9"
      },
      "execution_count": 300,
      "outputs": [
        {
          "output_type": "stream",
          "name": "stdout",
          "text": [
            "tf.Tensor(\n",
            "[[[5 5 5 5]\n",
            "  [5 5 5 5]\n",
            "  [5 5 5 5]]], shape=(1, 3, 4), dtype=int32)\n"
          ]
        }
      ]
    },
    {
      "cell_type": "code",
      "source": [
        "zeros_tensor = tf.zeros(\n",
        "    [3,2],\n",
        "    dtype=tf.dtypes.float32,\n",
        "    name=None\n",
        ")\n",
        "print(zeros_tensor)"
      ],
      "metadata": {
        "colab": {
          "base_uri": "https://localhost:8080/"
        },
        "id": "0Fu4qRh8QNYi",
        "outputId": "610ff487-0cbb-44ac-e1a5-a10fea669d8c"
      },
      "execution_count": 301,
      "outputs": [
        {
          "output_type": "stream",
          "name": "stdout",
          "text": [
            "tf.Tensor(\n",
            "[[0. 0.]\n",
            " [0. 0.]\n",
            " [0. 0.]], shape=(3, 2), dtype=float32)\n"
          ]
        }
      ]
    },
    {
      "cell_type": "code",
      "source": [
        "ones_tensor = tf.ones(\n",
        "    [3,2],\n",
        "    dtype=tf.dtypes.float32,\n",
        "    name=None\n",
        ")\n",
        "print(ones_tensor)"
      ],
      "metadata": {
        "colab": {
          "base_uri": "https://localhost:8080/"
        },
        "id": "fpK6gd6pK89P",
        "outputId": "cecb33d5-a3fb-4fa3-f59d-5082c4fb0a70"
      },
      "execution_count": 302,
      "outputs": [
        {
          "output_type": "stream",
          "name": "stdout",
          "text": [
            "tf.Tensor(\n",
            "[[1. 1.]\n",
            " [1. 1.]\n",
            " [1. 1.]], shape=(3, 2), dtype=float32)\n"
          ]
        }
      ]
    },
    {
      "cell_type": "code",
      "source": [
        "ones_like_tensor = tf.ones_like(fill_tensor)\n",
        "print(ones_like_tensor)"
      ],
      "metadata": {
        "colab": {
          "base_uri": "https://localhost:8080/"
        },
        "id": "kJA6i52YPrh5",
        "outputId": "fc9357a1-ef84-4aaa-a022-5f256e3173e0"
      },
      "execution_count": 303,
      "outputs": [
        {
          "output_type": "stream",
          "name": "stdout",
          "text": [
            "tf.Tensor(\n",
            "[[[1 1 1 1]\n",
            "  [1 1 1 1]\n",
            "  [1 1 1 1]]], shape=(1, 3, 4), dtype=int32)\n"
          ]
        }
      ]
    },
    {
      "cell_type": "code",
      "source": [
        "random_tensor = tf.random.normal(\n",
        "    [3,2],\n",
        "    mean=100.0,\n",
        "    stddev=1.0,\n",
        "    dtype=tf.dtypes.float32,\n",
        "    seed=None,\n",
        "    name=None\n",
        ")\n",
        "print(random_tensor)"
      ],
      "metadata": {
        "colab": {
          "base_uri": "https://localhost:8080/"
        },
        "id": "MSvWlCLce6oF",
        "outputId": "710f4ede-61c0-4dd5-8975-72cc71989b20"
      },
      "execution_count": 304,
      "outputs": [
        {
          "output_type": "stream",
          "name": "stdout",
          "text": [
            "tf.Tensor(\n",
            "[[ 99.819695  99.04971 ]\n",
            " [ 99.96036   99.25746 ]\n",
            " [101.32315   99.381454]], shape=(3, 2), dtype=float32)\n"
          ]
        }
      ]
    },
    {
      "cell_type": "code",
      "source": [
        "random_tensor = tf.random.uniform(\n",
        "    [5,5],\n",
        "    minval=0,\n",
        "    maxval=1000,\n",
        "    dtype=tf.dtypes.int32,\n",
        "    seed=None,\n",
        "    name=None\n",
        ")\n",
        "print(random_tensor)"
      ],
      "metadata": {
        "colab": {
          "base_uri": "https://localhost:8080/"
        },
        "id": "eUPOFbrnk0Te",
        "outputId": "8db5097c-0364-46c8-bb79-30fb90ab5ca1"
      },
      "execution_count": 305,
      "outputs": [
        {
          "output_type": "stream",
          "name": "stdout",
          "text": [
            "tf.Tensor(\n",
            "[[597 764 960 558  70]\n",
            " [817 340 143 777 334]\n",
            " [632 429 283 664 894]\n",
            " [120 292 511 585 171]\n",
            " [601 294 650 406 833]], shape=(5, 5), dtype=int32)\n"
          ]
        }
      ]
    },
    {
      "cell_type": "code",
      "metadata": {
        "id": "v71qWRUBhjPq"
      },
      "source": [
        "import tensorflow as tf\n",
        "import numpy as np"
      ],
      "execution_count": 306,
      "outputs": []
    },
    {
      "cell_type": "code",
      "metadata": {
        "id": "rbPYPDNOKyVv",
        "colab": {
          "base_uri": "https://localhost:8080/"
        },
        "outputId": "35aea36a-c737-4850-900e-ff78b2a46192"
      },
      "source": [
        "tensor_zero_d = tf.constant(1)\n",
        "print(tensor_zero_d)"
      ],
      "execution_count": 307,
      "outputs": [
        {
          "output_type": "stream",
          "name": "stdout",
          "text": [
            "tf.Tensor(1, shape=(), dtype=int32)\n"
          ]
        }
      ]
    },
    {
      "cell_type": "code",
      "metadata": {
        "id": "MA3uCGX9Cdfp",
        "colab": {
          "base_uri": "https://localhost:8080/"
        },
        "outputId": "2c682453-3c3c-47a5-dcb8-aa1bc200736f"
      },
      "source": [
        "tensor_one_d = tf.constant([3,0,3], dtype = tf.float32)\n",
        "print(tensor_one_d)\n",
        "\n",
        "casted_tensor_one_d = tf.cast(tensor_one_d, dtype = tf.uint16)\n",
        "print(casted_tensor_one_d)"
      ],
      "execution_count": 308,
      "outputs": [
        {
          "output_type": "stream",
          "name": "stdout",
          "text": [
            "tf.Tensor([3. 0. 3.], shape=(3,), dtype=float32)\n",
            "tf.Tensor([3 0 3], shape=(3,), dtype=uint16)\n"
          ]
        }
      ]
    },
    {
      "cell_type": "code",
      "metadata": {
        "colab": {
          "base_uri": "https://localhost:8080/"
        },
        "id": "ElZNIq8Xx1jR",
        "outputId": "9e90dbc3-7111-4c9d-d00c-a873211bb07a"
      },
      "source": [
        "tensor_two_d = tf.constant([[1,2,0],\n",
        "                            [3,5,-1],\n",
        "                            [1,5,6],\n",
        "                            [2,3,8]])\n",
        "print(tensor_two_d)"
      ],
      "execution_count": 309,
      "outputs": [
        {
          "output_type": "stream",
          "name": "stdout",
          "text": [
            "tf.Tensor(\n",
            "[[ 1  2  0]\n",
            " [ 3  5 -1]\n",
            " [ 1  5  6]\n",
            " [ 2  3  8]], shape=(4, 3), dtype=int32)\n"
          ]
        }
      ]
    },
    {
      "cell_type": "code",
      "metadata": {
        "colab": {
          "base_uri": "https://localhost:8080/"
        },
        "id": "JZoN_HVc0lpH",
        "outputId": "8063e9fb-a3d8-46cb-ac76-28daf807e9ef"
      },
      "source": [
        "tensor_three_d = tf.constant([[[1,2,0],\n",
        "                             [3,5,-1]],\n",
        "\n",
        "                            [[10,2,0],\n",
        "                             [1,0,2]],\n",
        "\n",
        "                            [[5,8,0],\n",
        "                             [2,7,0]],\n",
        "\n",
        "                            [[2,1,9],\n",
        "                             [4,-3,32]]])\n",
        "print(tensor_three_d.ndim)"
      ],
      "execution_count": 310,
      "outputs": [
        {
          "output_type": "stream",
          "name": "stdout",
          "text": [
            "3\n"
          ]
        }
      ]
    },
    {
      "cell_type": "code",
      "metadata": {
        "colab": {
          "base_uri": "https://localhost:8080/"
        },
        "id": "zWhaobDo1aSc",
        "outputId": "74fe284b-abb4-4b5b-b995-004f60ea07f7"
      },
      "source": [
        "tensor_four_d = tf.constant([[[[1,2,0],\n",
        "                             [3,5,-1]],\n",
        "\n",
        "                            [[10,2,0],\n",
        "                             [1,0,2]],\n",
        "\n",
        "                            [[5,8,0],\n",
        "                             [2,7,0]],\n",
        "\n",
        "                            [[2,1,9],\n",
        "                             [4,-3,32]]],\n",
        "\n",
        "\n",
        "\n",
        "                             [[[0,2,5],\n",
        "                             [5,3,1]],\n",
        "\n",
        "                            [[0,2,0],\n",
        "                             [-1,10,0]],\n",
        "\n",
        "                            [[0,5,1],\n",
        "                             [1,7,0]],\n",
        "\n",
        "                            [[3,8,7],\n",
        "                             [2,3,2]]],\n",
        "\n",
        "\n",
        "\n",
        "                             [[[4,5,4],\n",
        "                             [3,1,1]],\n",
        "\n",
        "                            [[0,2,5],\n",
        "                             [0,4,3]],\n",
        "\n",
        "                            [[3,2,4],\n",
        "                             [5,8,3]],\n",
        "\n",
        "                            [[8,2,5],\n",
        "                             [2,3,3]]]])\n",
        "print(tensor_four_d)"
      ],
      "execution_count": 311,
      "outputs": [
        {
          "output_type": "stream",
          "name": "stdout",
          "text": [
            "tf.Tensor(\n",
            "[[[[ 1  2  0]\n",
            "   [ 3  5 -1]]\n",
            "\n",
            "  [[10  2  0]\n",
            "   [ 1  0  2]]\n",
            "\n",
            "  [[ 5  8  0]\n",
            "   [ 2  7  0]]\n",
            "\n",
            "  [[ 2  1  9]\n",
            "   [ 4 -3 32]]]\n",
            "\n",
            "\n",
            " [[[ 0  2  5]\n",
            "   [ 5  3  1]]\n",
            "\n",
            "  [[ 0  2  0]\n",
            "   [-1 10  0]]\n",
            "\n",
            "  [[ 0  5  1]\n",
            "   [ 1  7  0]]\n",
            "\n",
            "  [[ 3  8  7]\n",
            "   [ 2  3  2]]]\n",
            "\n",
            "\n",
            " [[[ 4  5  4]\n",
            "   [ 3  1  1]]\n",
            "\n",
            "  [[ 0  2  5]\n",
            "   [ 0  4  3]]\n",
            "\n",
            "  [[ 3  2  4]\n",
            "   [ 5  8  3]]\n",
            "\n",
            "  [[ 8  2  5]\n",
            "   [ 2  3  3]]]], shape=(3, 4, 2, 3), dtype=int32)\n"
          ]
        }
      ]
    },
    {
      "cell_type": "code",
      "metadata": {
        "colab": {
          "base_uri": "https://localhost:8080/"
        },
        "id": "HY_0VPiF4vuD",
        "outputId": "d3e1881b-8b29-49d6-b267-785876db1b1f"
      },
      "source": [
        "x = tf.constant(1, shape= (4,4))\n",
        "print(x)"
      ],
      "execution_count": 312,
      "outputs": [
        {
          "output_type": "stream",
          "name": "stdout",
          "text": [
            "tf.Tensor(\n",
            "[[1 1 1 1]\n",
            " [1 1 1 1]\n",
            " [1 1 1 1]\n",
            " [1 1 1 1]], shape=(4, 4), dtype=int32)\n"
          ]
        }
      ]
    },
    {
      "cell_type": "code",
      "metadata": {
        "id": "G-z2Yc1aPajI",
        "colab": {
          "base_uri": "https://localhost:8080/"
        },
        "outputId": "d328bfaf-1958-4c43-eb98-82dd28bfbc75"
      },
      "source": [
        "x_np = np.array([3,4,5])\n",
        "print(x_np)"
      ],
      "execution_count": 313,
      "outputs": [
        {
          "output_type": "stream",
          "name": "stdout",
          "text": [
            "[3 4 5]\n"
          ]
        }
      ]
    },
    {
      "cell_type": "code",
      "metadata": {
        "id": "gDupT3PFPhWP",
        "colab": {
          "base_uri": "https://localhost:8080/"
        },
        "outputId": "aca49627-3d00-48fe-9127-b20c28463576"
      },
      "source": [
        "x_tf = tf.convert_to_tensor(x_np, dtype = tf.float16)\n",
        "print(x_tf)"
      ],
      "execution_count": 314,
      "outputs": [
        {
          "output_type": "stream",
          "name": "stdout",
          "text": [
            "tf.Tensor([3. 4. 5.], shape=(3,), dtype=float16)\n"
          ]
        }
      ]
    },
    {
      "cell_type": "code",
      "metadata": {
        "id": "XKhfdrmruVsU",
        "colab": {
          "base_uri": "https://localhost:8080/"
        },
        "outputId": "e782a51e-febd-4a56-9918-2875a3014ea7"
      },
      "source": [
        "identity_matrix = tf.eye(4, batch_shape=[2], dtype=tf.dtypes.float32, name=None)\n",
        "print(identity_matrix)"
      ],
      "execution_count": 315,
      "outputs": [
        {
          "output_type": "stream",
          "name": "stdout",
          "text": [
            "tf.Tensor(\n",
            "[[[1. 0. 0. 0.]\n",
            "  [0. 1. 0. 0.]\n",
            "  [0. 0. 1. 0.]\n",
            "  [0. 0. 0. 1.]]\n",
            "\n",
            " [[1. 0. 0. 0.]\n",
            "  [0. 1. 0. 0.]\n",
            "  [0. 0. 1. 0.]\n",
            "  [0. 0. 0. 1.]]], shape=(2, 4, 4), dtype=float32)\n"
          ]
        }
      ]
    },
    {
      "cell_type": "code",
      "metadata": {
        "id": "moc-0CGrvPSL",
        "colab": {
          "base_uri": "https://localhost:8080/"
        },
        "outputId": "33ce11e1-dec0-4f5b-9ec0-c6b568fcafe9"
      },
      "source": [
        "filled_tensor = tf.fill([4,3], 1., )\n",
        "print(filled_tensor)"
      ],
      "execution_count": 316,
      "outputs": [
        {
          "output_type": "stream",
          "name": "stdout",
          "text": [
            "tf.Tensor(\n",
            "[[1. 1. 1.]\n",
            " [1. 1. 1.]\n",
            " [1. 1. 1.]\n",
            " [1. 1. 1.]], shape=(4, 3), dtype=float32)\n"
          ]
        }
      ]
    },
    {
      "cell_type": "code",
      "metadata": {
        "id": "ylCnIrjGCEy2",
        "colab": {
          "base_uri": "https://localhost:8080/"
        },
        "outputId": "5a8a9370-0726-42ce-91b9-dacb44a45b17"
      },
      "source": [
        "ones_tensor = tf.ones([4,3], dtype = tf.float32)\n",
        "print(ones_tensor)"
      ],
      "execution_count": 317,
      "outputs": [
        {
          "output_type": "stream",
          "name": "stdout",
          "text": [
            "tf.Tensor(\n",
            "[[1. 1. 1.]\n",
            " [1. 1. 1.]\n",
            " [1. 1. 1.]\n",
            " [1. 1. 1.]], shape=(4, 3), dtype=float32)\n"
          ]
        }
      ]
    },
    {
      "cell_type": "code",
      "metadata": {
        "id": "aVwcraruC7GM",
        "colab": {
          "base_uri": "https://localhost:8080/"
        },
        "outputId": "2b44f20c-1b65-4979-f1fd-5b4398e2f11b"
      },
      "source": [
        "zeros_tensor = tf.zeros([4,3], dtype = tf.float32)\n",
        "print(zeros_tensor)"
      ],
      "execution_count": 318,
      "outputs": [
        {
          "output_type": "stream",
          "name": "stdout",
          "text": [
            "tf.Tensor(\n",
            "[[0. 0. 0.]\n",
            " [0. 0. 0.]\n",
            " [0. 0. 0.]\n",
            " [0. 0. 0.]], shape=(4, 3), dtype=float32)\n"
          ]
        }
      ]
    },
    {
      "cell_type": "code",
      "metadata": {
        "colab": {
          "base_uri": "https://localhost:8080/"
        },
        "id": "vacUubrjRd-X",
        "outputId": "097f8d11-1d71-402b-bc47-15eacdbd978f"
      },
      "source": [
        "ones_like_tensor = tf.ones_like(tensor_four_d)\n",
        "print(ones_like_tensor)\n",
        "print(tensor_four_d.shape)"
      ],
      "execution_count": 319,
      "outputs": [
        {
          "output_type": "stream",
          "name": "stdout",
          "text": [
            "tf.Tensor(\n",
            "[[[[1 1 1]\n",
            "   [1 1 1]]\n",
            "\n",
            "  [[1 1 1]\n",
            "   [1 1 1]]\n",
            "\n",
            "  [[1 1 1]\n",
            "   [1 1 1]]\n",
            "\n",
            "  [[1 1 1]\n",
            "   [1 1 1]]]\n",
            "\n",
            "\n",
            " [[[1 1 1]\n",
            "   [1 1 1]]\n",
            "\n",
            "  [[1 1 1]\n",
            "   [1 1 1]]\n",
            "\n",
            "  [[1 1 1]\n",
            "   [1 1 1]]\n",
            "\n",
            "  [[1 1 1]\n",
            "   [1 1 1]]]\n",
            "\n",
            "\n",
            " [[[1 1 1]\n",
            "   [1 1 1]]\n",
            "\n",
            "  [[1 1 1]\n",
            "   [1 1 1]]\n",
            "\n",
            "  [[1 1 1]\n",
            "   [1 1 1]]\n",
            "\n",
            "  [[1 1 1]\n",
            "   [1 1 1]]]], shape=(3, 4, 2, 3), dtype=int32)\n",
            "(3, 4, 2, 3)\n"
          ]
        }
      ]
    },
    {
      "cell_type": "code",
      "metadata": {
        "id": "tOXsSjoeRz1F"
      },
      "source": [
        "normal_tensor = tf.random_normal_initializer(\n",
        "    mean=0.0, stddev=0.05, seed=None\n",
        ")"
      ],
      "execution_count": 320,
      "outputs": []
    },
    {
      "cell_type": "code",
      "metadata": {
        "colab": {
          "base_uri": "https://localhost:8080/"
        },
        "id": "mUD-dGU9R0SH",
        "outputId": "cadd208c-b27d-4633-dbd2-c0aa91e5afc7"
      },
      "source": [
        "print(normal_tensor)"
      ],
      "execution_count": 321,
      "outputs": [
        {
          "output_type": "stream",
          "name": "stdout",
          "text": [
            "<tensorflow.python.ops.init_ops_v2.RandomNormal object at 0x7fa423504cd0>\n"
          ]
        }
      ]
    },
    {
      "cell_type": "code",
      "metadata": {
        "colab": {
          "base_uri": "https://localhost:8080/"
        },
        "id": "LvBS6T2RUQe4",
        "outputId": "c28f8a13-44d9-4577-e4cc-200a6bb80110"
      },
      "source": [
        "range_tensor = tf.range(start = 2, limit = 10, delta = 3)\n",
        "print(range_tensor)"
      ],
      "execution_count": 322,
      "outputs": [
        {
          "output_type": "stream",
          "name": "stdout",
          "text": [
            "tf.Tensor([2 5 8], shape=(3,), dtype=int32)\n"
          ]
        }
      ]
    },
    {
      "cell_type": "code",
      "metadata": {
        "id": "ejHU8A2LR0fz"
      },
      "source": [],
      "execution_count": 322,
      "outputs": []
    },
    {
      "cell_type": "code",
      "metadata": {
        "colab": {
          "base_uri": "https://localhost:8080/"
        },
        "id": "lvHLbzztR0mq",
        "outputId": "d6eb6002-ecd7-496d-a25f-8c6c1fed05cb"
      },
      "source": [
        "print(tf.shape(tensor_three_d,))\n",
        "print(tensor_three_d.shape)"
      ],
      "execution_count": 323,
      "outputs": [
        {
          "output_type": "stream",
          "name": "stdout",
          "text": [
            "tf.Tensor([4 2 3], shape=(3,), dtype=int32)\n",
            "(4, 2, 3)\n"
          ]
        }
      ]
    },
    {
      "cell_type": "code",
      "source": [],
      "metadata": {
        "id": "IOkFlTRt4WLd"
      },
      "execution_count": 323,
      "outputs": []
    },
    {
      "cell_type": "code",
      "metadata": {
        "colab": {
          "base_uri": "https://localhost:8080/"
        },
        "id": "y1kmyitzR0o_",
        "outputId": "6781c868-8b01-4d9f-8693-3aad14a45ab4"
      },
      "source": [
        "print(tf.size(tensor_four_d))"
      ],
      "execution_count": 324,
      "outputs": [
        {
          "output_type": "stream",
          "name": "stdout",
          "text": [
            "tf.Tensor(72, shape=(), dtype=int32)\n"
          ]
        }
      ]
    },
    {
      "cell_type": "code",
      "metadata": {
        "id": "eXaOYjteR0rg",
        "colab": {
          "base_uri": "https://localhost:8080/"
        },
        "outputId": "13339600-4b87-4490-857b-c453bb884c8b"
      },
      "source": [
        "g = tf.random.Generator.from_non_deterministic_state()\n",
        "g.normal(shape=(2,), mean = 100, stddev = 1)"
      ],
      "execution_count": 325,
      "outputs": [
        {
          "output_type": "execute_result",
          "data": {
            "text/plain": [
              "<tf.Tensor: shape=(2,), dtype=float32, numpy=array([99.74168, 99.83146], dtype=float32)>"
            ]
          },
          "metadata": {},
          "execution_count": 325
        }
      ]
    },
    {
      "cell_type": "code",
      "metadata": {
        "id": "voN_Sa1dYhVt",
        "colab": {
          "base_uri": "https://localhost:8080/"
        },
        "outputId": "c667d9f3-96b9-4d3e-b461-0b2cf925ce2c"
      },
      "source": [
        "g = tf.random.Generator.from_non_deterministic_state()\n",
        "g.uniform(shape=(2,), minval = 25, maxval = 40)"
      ],
      "execution_count": 326,
      "outputs": [
        {
          "output_type": "execute_result",
          "data": {
            "text/plain": [
              "<tf.Tensor: shape=(2,), dtype=float32, numpy=array([33.638016, 33.65309 ], dtype=float32)>"
            ]
          },
          "metadata": {},
          "execution_count": 326
        }
      ]
    },
    {
      "cell_type": "code",
      "metadata": {
        "id": "e1wmfNLybAfE",
        "colab": {
          "base_uri": "https://localhost:8080/"
        },
        "outputId": "52726f01-67f1-4df6-dd79-8cb6e1580340"
      },
      "source": [
        "tf.random.normal(\n",
        "    (3,), mean=0.0, stddev=100.0, dtype=tf.dtypes.float32, seed=12, name=\"Random Number with Normal distribution\"\n",
        ")"
      ],
      "execution_count": 327,
      "outputs": [
        {
          "output_type": "execute_result",
          "data": {
            "text/plain": [
              "<tf.Tensor: shape=(3,), dtype=float32, numpy=array([12.151812,  9.970952, 69.518616], dtype=float32)>"
            ]
          },
          "metadata": {},
          "execution_count": 327
        }
      ]
    },
    {
      "cell_type": "code",
      "metadata": {
        "colab": {
          "base_uri": "https://localhost:8080/"
        },
        "id": "bZ_hQJkbAr9T",
        "outputId": "5cc7e686-5d6d-45cd-d123-1e521d037494"
      },
      "source": [
        "tf.random.uniform(\n",
        "    (2,), minval=0, maxval=100, dtype=tf.dtypes.float32, seed=None, name=None\n",
        ")"
      ],
      "execution_count": 328,
      "outputs": [
        {
          "output_type": "execute_result",
          "data": {
            "text/plain": [
              "<tf.Tensor: shape=(2,), dtype=float32, numpy=array([20.179546, 34.707115], dtype=float32)>"
            ]
          },
          "metadata": {},
          "execution_count": 328
        }
      ]
    },
    {
      "cell_type": "code",
      "metadata": {
        "colab": {
          "base_uri": "https://localhost:8080/"
        },
        "id": "vh-eXdHQMHl9",
        "outputId": "ecd0eb85-c74e-42c6-96b1-eeff050b05ba"
      },
      "source": [
        "tensor_indexed = tf.constant([3,6,2,4,6,66,7])\n",
        "print(tensor_indexed[:])\n",
        "print(tensor_indexed[0:4])\n",
        "print(tensor_indexed[3:-3])"
      ],
      "execution_count": 329,
      "outputs": [
        {
          "output_type": "stream",
          "name": "stdout",
          "text": [
            "tf.Tensor([ 3  6  2  4  6 66  7], shape=(7,), dtype=int32)\n",
            "tf.Tensor([3 6 2 4], shape=(4,), dtype=int32)\n",
            "tf.Tensor([4], shape=(1,), dtype=int32)\n"
          ]
        }
      ]
    },
    {
      "cell_type": "code",
      "metadata": {
        "colab": {
          "base_uri": "https://localhost:8080/"
        },
        "id": "212nNIo1Y0gb",
        "outputId": "366939e6-ced0-4743-80e5-e3f603f99d34"
      },
      "source": [
        "tensor_two_d = tf.constant([[1,2,0],\n",
        "                            [3,5,-1],\n",
        "                            [1,5,6],\n",
        "                            [2,3,8]])\n",
        "print(tensor_two_d[...,1])"
      ],
      "execution_count": 330,
      "outputs": [
        {
          "output_type": "stream",
          "name": "stdout",
          "text": [
            "tf.Tensor([2 5 5 3], shape=(4,), dtype=int32)\n"
          ]
        }
      ]
    },
    {
      "cell_type": "code",
      "metadata": {
        "colab": {
          "base_uri": "https://localhost:8080/"
        },
        "id": "YRc4Zgl4Y9z3",
        "outputId": "ee172483-91eb-4226-ec36-daab072b3bb7"
      },
      "source": [
        "tensor_three_d = tf.constant([\n",
        "\n",
        "\n",
        "                              [[1,2,0],\n",
        "                               [3,5,-1]],\n",
        "\n",
        "                              [[10,2,0],\n",
        "                               [1,0,2]],\n",
        "\n",
        "                              [[5,8,0],\n",
        "                               [2,7,0]],\n",
        "\n",
        "                              [[2,1,9],\n",
        "                               [4,-3,32]]\n",
        "\n",
        "\n",
        "                              ])\n",
        "\n",
        "print(tensor_three_d[ ... , : , 2])"
      ],
      "execution_count": 331,
      "outputs": [
        {
          "output_type": "stream",
          "name": "stdout",
          "text": [
            "tf.Tensor(\n",
            "[[ 0 -1]\n",
            " [ 0  2]\n",
            " [ 0  0]\n",
            " [ 9 32]], shape=(4, 2), dtype=int32)\n"
          ]
        }
      ]
    },
    {
      "cell_type": "code",
      "source": [
        "print(tf.expand_dims(tensor_three_d[ ... , : , 2],-1))"
      ],
      "metadata": {
        "colab": {
          "base_uri": "https://localhost:8080/"
        },
        "id": "ReoN7RlXhHkA",
        "outputId": "3653c74e-6b03-4434-a045-058b663ce1ab"
      },
      "execution_count": 332,
      "outputs": [
        {
          "output_type": "stream",
          "name": "stdout",
          "text": [
            "tf.Tensor(\n",
            "[[[ 0]\n",
            "  [-1]]\n",
            "\n",
            " [[ 0]\n",
            "  [ 2]]\n",
            "\n",
            " [[ 0]\n",
            "  [ 0]]\n",
            "\n",
            " [[ 9]\n",
            "  [32]]], shape=(4, 2, 1), dtype=int32)\n"
          ]
        }
      ]
    },
    {
      "cell_type": "code",
      "metadata": {
        "id": "idTAaYyJi-RL",
        "colab": {
          "base_uri": "https://localhost:8080/"
        },
        "outputId": "c724ea55-c826-45d3-b0a0-2143fee9fd3d"
      },
      "source": [
        "x_abs = tf.constant([-2.25, 3.25])\n",
        "tf.abs(x_abs)"
      ],
      "execution_count": 333,
      "outputs": [
        {
          "output_type": "execute_result",
          "data": {
            "text/plain": [
              "<tf.Tensor: shape=(2,), dtype=float32, numpy=array([2.25, 3.25], dtype=float32)>"
            ]
          },
          "metadata": {},
          "execution_count": 333
        }
      ]
    },
    {
      "cell_type": "code",
      "metadata": {
        "colab": {
          "base_uri": "https://localhost:8080/"
        },
        "id": "zEM44Q6Wj898",
        "outputId": "c97c11cf-f24f-4715-fd73-897cb7ef32c2"
      },
      "source": [
        "tf.abs(tf.constant(-0.2))"
      ],
      "execution_count": 334,
      "outputs": [
        {
          "output_type": "execute_result",
          "data": {
            "text/plain": [
              "<tf.Tensor: shape=(), dtype=float32, numpy=0.20000000298023224>"
            ]
          },
          "metadata": {},
          "execution_count": 334
        }
      ]
    },
    {
      "cell_type": "code",
      "metadata": {
        "colab": {
          "base_uri": "https://localhost:8080/"
        },
        "id": "5MK1QlmZkGl1",
        "outputId": "cfd8d354-8bdb-4659-b3e4-66c013f382f7"
      },
      "source": [
        "x_abs_complex = tf.constant([-2.25 + 4.75j])\n",
        "tf.abs(x_abs_complex)\n"
      ],
      "execution_count": 335,
      "outputs": [
        {
          "output_type": "execute_result",
          "data": {
            "text/plain": [
              "<tf.Tensor: shape=(1,), dtype=float64, numpy=array([5.25594901])>"
            ]
          },
          "metadata": {},
          "execution_count": 335
        }
      ]
    },
    {
      "cell_type": "code",
      "metadata": {
        "colab": {
          "base_uri": "https://localhost:8080/"
        },
        "id": "_WJCCsbNlK9v",
        "outputId": "85377c61-2d61-4e82-d953-1d7e9665547f"
      },
      "source": [
        "tf.sqrt((-2.25)**2 + 4.75**2)"
      ],
      "execution_count": 336,
      "outputs": [
        {
          "output_type": "execute_result",
          "data": {
            "text/plain": [
              "<tf.Tensor: shape=(), dtype=float32, numpy=5.255949020385742>"
            ]
          },
          "metadata": {},
          "execution_count": 336
        }
      ]
    },
    {
      "cell_type": "code",
      "metadata": {
        "colab": {
          "base_uri": "https://localhost:8080/"
        },
        "id": "aWtN5DYrlbQl",
        "outputId": "4d868654-2540-435d-8cc8-51d14542c3e9"
      },
      "source": [
        "x_1 = tf.constant([[5,3,6,6,4,6]], dtype = tf.float32)\n",
        "x_2 = tf.constant([[7], [5], [3]], dtype = tf.float32)\n",
        "\n",
        "print(x_1.shape)\n",
        "print(x_2.shape)\n",
        "print(tf.math.multiply(x_1, x_2))"
      ],
      "execution_count": 337,
      "outputs": [
        {
          "output_type": "stream",
          "name": "stdout",
          "text": [
            "(1, 6)\n",
            "(3, 1)\n",
            "tf.Tensor(\n",
            "[[35. 21. 42. 42. 28. 42.]\n",
            " [25. 15. 30. 30. 20. 30.]\n",
            " [15.  9. 18. 18. 12. 18.]], shape=(3, 6), dtype=float32)\n"
          ]
        }
      ]
    },
    {
      "cell_type": "code",
      "metadata": {
        "colab": {
          "base_uri": "https://localhost:8080/"
        },
        "id": "B3M6S96Xvtx3",
        "outputId": "5d029e8f-dcae-4ca3-b20d-21a69a81a8ee"
      },
      "source": [
        "x_argmax = tf.constant([[2, 20, 30, 3, 6],\n",
        "                        [3, 11, 16, 1, 8],\n",
        "                        [14, 45, 23, 5, 27]])\n",
        "\n",
        "print(x_argmax.shape)\n",
        "print(tf.math.argmin(x_argmax, axis = 1))"
      ],
      "execution_count": 338,
      "outputs": [
        {
          "output_type": "stream",
          "name": "stdout",
          "text": [
            "(3, 5)\n",
            "tf.Tensor([0 3 3], shape=(3,), dtype=int64)\n"
          ]
        }
      ]
    },
    {
      "cell_type": "code",
      "metadata": {
        "colab": {
          "base_uri": "https://localhost:8080/"
        },
        "id": "0c8TcWr356Yo",
        "outputId": "f12ab77e-0050-4daf-a0aa-5a27caeb30b4"
      },
      "source": [
        "x_argmax = tf.constant([200, 120, 130, 3, 6])\n",
        "print(tf.math.argmax(x_argmax))"
      ],
      "execution_count": 339,
      "outputs": [
        {
          "output_type": "stream",
          "name": "stdout",
          "text": [
            "tf.Tensor(0, shape=(), dtype=int64)\n"
          ]
        }
      ]
    },
    {
      "cell_type": "code",
      "metadata": {
        "colab": {
          "base_uri": "https://localhost:8080/"
        },
        "id": "uVyoaAOW6GWl",
        "outputId": "673f5a48-cc8d-4595-b784-b679a0be5a84"
      },
      "source": [
        "x_argmax = tf.constant([200, 120, 130, 300, 6])\n",
        "print(tf.math.argmax(x_argmax))"
      ],
      "execution_count": 340,
      "outputs": [
        {
          "output_type": "stream",
          "name": "stdout",
          "text": [
            "tf.Tensor(3, shape=(), dtype=int64)\n"
          ]
        }
      ]
    },
    {
      "cell_type": "code",
      "metadata": {
        "colab": {
          "base_uri": "https://localhost:8080/"
        },
        "id": "-PyiwLjn6QVb",
        "outputId": "684407e9-3a03-4ec8-a1e1-0facac58df96"
      },
      "source": [
        "x = tf.constant([[2, 2], [3, 3]])\n",
        "y = tf.constant([[3, 0], [1, 4]])\n",
        "tf.pow(x, y)"
      ],
      "execution_count": 341,
      "outputs": [
        {
          "output_type": "execute_result",
          "data": {
            "text/plain": [
              "<tf.Tensor: shape=(2, 2), dtype=int32, numpy=\n",
              "array([[ 8,  1],\n",
              "       [ 3, 81]], dtype=int32)>"
            ]
          },
          "metadata": {},
          "execution_count": 341
        }
      ]
    },
    {
      "cell_type": "code",
      "metadata": {
        "colab": {
          "base_uri": "https://localhost:8080/"
        },
        "id": "8K-n06t69QwS",
        "outputId": "f6ce3fd9-d1a0-425b-bc3a-e4739c9ceadc"
      },
      "source": [
        "tf.pow(tf.constant(2) ,tf.constant(3))"
      ],
      "execution_count": 342,
      "outputs": [
        {
          "output_type": "execute_result",
          "data": {
            "text/plain": [
              "<tf.Tensor: shape=(), dtype=int32, numpy=8>"
            ]
          },
          "metadata": {},
          "execution_count": 342
        }
      ]
    },
    {
      "cell_type": "code",
      "metadata": {
        "colab": {
          "base_uri": "https://localhost:8080/"
        },
        "id": "hdT8eEGe9XSq",
        "outputId": "c534c3eb-e302-4d29-ad4c-7ce3e3012bc9"
      },
      "source": [
        "tensor_two_d = tf.constant([[1,-2,0],\n",
        "                            [3,5,100],\n",
        "                            [1,5,6],\n",
        "                            [2,3,8]], dtype = tf.float16)\n",
        "print(tensor_two_d.shape)\n",
        "\n",
        "print(tf.math.reduce_std(tensor_two_d, axis=0, keepdims=True, name=None))"
      ],
      "execution_count": 343,
      "outputs": [
        {
          "output_type": "stream",
          "name": "stdout",
          "text": [
            "(4, 3)\n",
            "tf.Tensor([[ 0.829  2.861 41.38 ]], shape=(1, 3), dtype=float16)\n"
          ]
        }
      ]
    },
    {
      "cell_type": "code",
      "metadata": {
        "colab": {
          "base_uri": "https://localhost:8080/"
        },
        "id": "KS1itgw894MV",
        "outputId": "6b6b6419-27ca-41bf-f260-31fc14672bcb"
      },
      "source": [
        "tf.math.top_k(tensor_two_d, k = 2)"
      ],
      "execution_count": 344,
      "outputs": [
        {
          "output_type": "execute_result",
          "data": {
            "text/plain": [
              "TopKV2(values=<tf.Tensor: shape=(4, 2), dtype=float16, numpy=\n",
              "array([[  1.,   0.],\n",
              "       [100.,   5.],\n",
              "       [  6.,   5.],\n",
              "       [  8.,   3.]], dtype=float16)>, indices=<tf.Tensor: shape=(4, 2), dtype=int32, numpy=\n",
              "array([[0, 2],\n",
              "       [2, 1],\n",
              "       [2, 1],\n",
              "       [2, 1]], dtype=int32)>)"
            ]
          },
          "metadata": {},
          "execution_count": 344
        }
      ]
    },
    {
      "cell_type": "code",
      "metadata": {
        "colab": {
          "base_uri": "https://localhost:8080/",
          "height": 497
        },
        "id": "jdCXMAfk-ztp",
        "outputId": "cf26afa9-70b6-4884-85d1-c5e645c4b819"
      },
      "source": [
        "x_1 = tf.constant([[1,2,0]])\n",
        "\n",
        "x_2 = tf.constant([[1,2],\n",
        "                  [3,5],\n",
        "                  [4,5]])\n",
        "\n",
        "x_3 = tf.constant([[1,2,0,2],\n",
        "                  [3,5,-1,2]])\n",
        "\n",
        "print(x_1.shape, x_2.shape, x_3.shape, tf.transpose(x_2).shape)\n",
        "# x_3.T = 4,2\n",
        "# x_2.T = 2,3\n",
        "print(tf.transpose(x_3)@tf.transpose(x_2))\n",
        "tf.linalg.matmul(\n",
        "    x_3, x_2, transpose_a=True, transpose_b=True, adjoint_a=False, adjoint_b=True,\n",
        "    a_is_sparse=False, b_is_sparse=False, output_type=None, name=None\n",
        ")"
      ],
      "execution_count": 345,
      "outputs": [
        {
          "output_type": "stream",
          "name": "stdout",
          "text": [
            "(1, 3) (3, 2) (2, 4) (2, 3)\n",
            "tf.Tensor(\n",
            "[[ 7 18 19]\n",
            " [12 31 33]\n",
            " [-2 -5 -5]\n",
            " [ 6 16 18]], shape=(4, 3), dtype=int32)\n"
          ]
        },
        {
          "output_type": "error",
          "ename": "ValueError",
          "evalue": "Only one of `transpose_b` and `adjoint_b` can be True. Received `transpose_b`=True, `adjoint_b`=True.",
          "traceback": [
            "\u001b[0;31m---------------------------------------------------------------------------\u001b[0m",
            "\u001b[0;31mValueError\u001b[0m                                Traceback (most recent call last)",
            "\u001b[0;32m<ipython-input-345-7a54519aca47>\u001b[0m in \u001b[0;36m<cell line: 0>\u001b[0;34m()\u001b[0m\n\u001b[1;32m     12\u001b[0m \u001b[0;31m# x_2.T = 2,3\u001b[0m\u001b[0;34m\u001b[0m\u001b[0;34m\u001b[0m\u001b[0m\n\u001b[1;32m     13\u001b[0m \u001b[0mprint\u001b[0m\u001b[0;34m(\u001b[0m\u001b[0mtf\u001b[0m\u001b[0;34m.\u001b[0m\u001b[0mtranspose\u001b[0m\u001b[0;34m(\u001b[0m\u001b[0mx_3\u001b[0m\u001b[0;34m)\u001b[0m\u001b[0;34m@\u001b[0m\u001b[0mtf\u001b[0m\u001b[0;34m.\u001b[0m\u001b[0mtranspose\u001b[0m\u001b[0;34m(\u001b[0m\u001b[0mx_2\u001b[0m\u001b[0;34m)\u001b[0m\u001b[0;34m)\u001b[0m\u001b[0;34m\u001b[0m\u001b[0;34m\u001b[0m\u001b[0m\n\u001b[0;32m---> 14\u001b[0;31m tf.linalg.matmul(\n\u001b[0m\u001b[1;32m     15\u001b[0m     \u001b[0mx_3\u001b[0m\u001b[0;34m,\u001b[0m \u001b[0mx_2\u001b[0m\u001b[0;34m,\u001b[0m \u001b[0mtranspose_a\u001b[0m\u001b[0;34m=\u001b[0m\u001b[0;32mTrue\u001b[0m\u001b[0;34m,\u001b[0m \u001b[0mtranspose_b\u001b[0m\u001b[0;34m=\u001b[0m\u001b[0;32mTrue\u001b[0m\u001b[0;34m,\u001b[0m \u001b[0madjoint_a\u001b[0m\u001b[0;34m=\u001b[0m\u001b[0;32mFalse\u001b[0m\u001b[0;34m,\u001b[0m \u001b[0madjoint_b\u001b[0m\u001b[0;34m=\u001b[0m\u001b[0;32mTrue\u001b[0m\u001b[0;34m,\u001b[0m\u001b[0;34m\u001b[0m\u001b[0;34m\u001b[0m\u001b[0m\n\u001b[1;32m     16\u001b[0m     \u001b[0ma_is_sparse\u001b[0m\u001b[0;34m=\u001b[0m\u001b[0;32mFalse\u001b[0m\u001b[0;34m,\u001b[0m \u001b[0mb_is_sparse\u001b[0m\u001b[0;34m=\u001b[0m\u001b[0;32mFalse\u001b[0m\u001b[0;34m,\u001b[0m \u001b[0moutput_type\u001b[0m\u001b[0;34m=\u001b[0m\u001b[0;32mNone\u001b[0m\u001b[0;34m,\u001b[0m \u001b[0mname\u001b[0m\u001b[0;34m=\u001b[0m\u001b[0;32mNone\u001b[0m\u001b[0;34m\u001b[0m\u001b[0;34m\u001b[0m\u001b[0m\n",
            "\u001b[0;32m/usr/local/lib/python3.11/dist-packages/tensorflow/python/ops/weak_tensor_ops.py\u001b[0m in \u001b[0;36mwrapper\u001b[0;34m(*args, **kwargs)\u001b[0m\n\u001b[1;32m    140\u001b[0m   \u001b[0;32mdef\u001b[0m \u001b[0mwrapper\u001b[0m\u001b[0;34m(\u001b[0m\u001b[0;34m*\u001b[0m\u001b[0margs\u001b[0m\u001b[0;34m,\u001b[0m \u001b[0;34m**\u001b[0m\u001b[0mkwargs\u001b[0m\u001b[0;34m)\u001b[0m\u001b[0;34m:\u001b[0m\u001b[0;34m\u001b[0m\u001b[0;34m\u001b[0m\u001b[0m\n\u001b[1;32m    141\u001b[0m     \u001b[0;32mif\u001b[0m \u001b[0;32mnot\u001b[0m \u001b[0mops\u001b[0m\u001b[0;34m.\u001b[0m\u001b[0mis_auto_dtype_conversion_enabled\u001b[0m\u001b[0;34m(\u001b[0m\u001b[0;34m)\u001b[0m\u001b[0;34m:\u001b[0m\u001b[0;34m\u001b[0m\u001b[0;34m\u001b[0m\u001b[0m\n\u001b[0;32m--> 142\u001b[0;31m       \u001b[0;32mreturn\u001b[0m \u001b[0mop\u001b[0m\u001b[0;34m(\u001b[0m\u001b[0;34m*\u001b[0m\u001b[0margs\u001b[0m\u001b[0;34m,\u001b[0m \u001b[0;34m**\u001b[0m\u001b[0mkwargs\u001b[0m\u001b[0;34m)\u001b[0m\u001b[0;34m\u001b[0m\u001b[0;34m\u001b[0m\u001b[0m\n\u001b[0m\u001b[1;32m    143\u001b[0m     \u001b[0mbound_arguments\u001b[0m \u001b[0;34m=\u001b[0m \u001b[0msignature\u001b[0m\u001b[0;34m.\u001b[0m\u001b[0mbind\u001b[0m\u001b[0;34m(\u001b[0m\u001b[0;34m*\u001b[0m\u001b[0margs\u001b[0m\u001b[0;34m,\u001b[0m \u001b[0;34m**\u001b[0m\u001b[0mkwargs\u001b[0m\u001b[0;34m)\u001b[0m\u001b[0;34m\u001b[0m\u001b[0;34m\u001b[0m\u001b[0m\n\u001b[1;32m    144\u001b[0m     \u001b[0mbound_arguments\u001b[0m\u001b[0;34m.\u001b[0m\u001b[0mapply_defaults\u001b[0m\u001b[0;34m(\u001b[0m\u001b[0;34m)\u001b[0m\u001b[0;34m\u001b[0m\u001b[0;34m\u001b[0m\u001b[0m\n",
            "\u001b[0;32m/usr/local/lib/python3.11/dist-packages/tensorflow/python/util/traceback_utils.py\u001b[0m in \u001b[0;36merror_handler\u001b[0;34m(*args, **kwargs)\u001b[0m\n\u001b[1;32m    151\u001b[0m     \u001b[0;32mexcept\u001b[0m \u001b[0mException\u001b[0m \u001b[0;32mas\u001b[0m \u001b[0me\u001b[0m\u001b[0;34m:\u001b[0m\u001b[0;34m\u001b[0m\u001b[0;34m\u001b[0m\u001b[0m\n\u001b[1;32m    152\u001b[0m       \u001b[0mfiltered_tb\u001b[0m \u001b[0;34m=\u001b[0m \u001b[0m_process_traceback_frames\u001b[0m\u001b[0;34m(\u001b[0m\u001b[0me\u001b[0m\u001b[0;34m.\u001b[0m\u001b[0m__traceback__\u001b[0m\u001b[0;34m)\u001b[0m\u001b[0;34m\u001b[0m\u001b[0;34m\u001b[0m\u001b[0m\n\u001b[0;32m--> 153\u001b[0;31m       \u001b[0;32mraise\u001b[0m \u001b[0me\u001b[0m\u001b[0;34m.\u001b[0m\u001b[0mwith_traceback\u001b[0m\u001b[0;34m(\u001b[0m\u001b[0mfiltered_tb\u001b[0m\u001b[0;34m)\u001b[0m \u001b[0;32mfrom\u001b[0m \u001b[0;32mNone\u001b[0m\u001b[0;34m\u001b[0m\u001b[0;34m\u001b[0m\u001b[0m\n\u001b[0m\u001b[1;32m    154\u001b[0m     \u001b[0;32mfinally\u001b[0m\u001b[0;34m:\u001b[0m\u001b[0;34m\u001b[0m\u001b[0;34m\u001b[0m\u001b[0m\n\u001b[1;32m    155\u001b[0m       \u001b[0;32mdel\u001b[0m \u001b[0mfiltered_tb\u001b[0m\u001b[0;34m\u001b[0m\u001b[0;34m\u001b[0m\u001b[0m\n",
            "\u001b[0;32m/usr/local/lib/python3.11/dist-packages/tensorflow/python/ops/math_ops.py\u001b[0m in \u001b[0;36mmatmul\u001b[0;34m(a, b, transpose_a, transpose_b, adjoint_a, adjoint_b, a_is_sparse, b_is_sparse, output_type, grad_a, grad_b, name)\u001b[0m\n\u001b[1;32m   3560\u001b[0m           f\"`adjoint_a`={adjoint_a}.\")\n\u001b[1;32m   3561\u001b[0m     \u001b[0;32mif\u001b[0m \u001b[0mtranspose_b\u001b[0m \u001b[0;32mand\u001b[0m \u001b[0madjoint_b\u001b[0m\u001b[0;34m:\u001b[0m\u001b[0;34m\u001b[0m\u001b[0;34m\u001b[0m\u001b[0m\n\u001b[0;32m-> 3562\u001b[0;31m       raise ValueError(\n\u001b[0m\u001b[1;32m   3563\u001b[0m           \u001b[0;34mf\"Only one of `transpose_b` and `adjoint_b` can be True. \"\u001b[0m\u001b[0;34m\u001b[0m\u001b[0;34m\u001b[0m\u001b[0m\n\u001b[1;32m   3564\u001b[0m           \u001b[0;34mf\"Received `transpose_b`={transpose_b}, \"\u001b[0m\u001b[0;34m\u001b[0m\u001b[0;34m\u001b[0m\u001b[0m\n",
            "\u001b[0;31mValueError\u001b[0m: Only one of `transpose_b` and `adjoint_b` can be True. Received `transpose_b`=True, `adjoint_b`=True."
          ]
        }
      ]
    },
    {
      "cell_type": "code",
      "metadata": {
        "id": "zDx4KQjMQva0"
      },
      "source": [
        "x_1@x_2"
      ],
      "execution_count": null,
      "outputs": []
    },
    {
      "cell_type": "code",
      "metadata": {
        "id": "ZRv4BzcGU9I9"
      },
      "source": [
        "tf.transpose(x_2)"
      ],
      "execution_count": null,
      "outputs": []
    },
    {
      "cell_type": "code",
      "metadata": {
        "id": "yerkW5UsVqiC"
      },
      "source": [
        "print(x_2)"
      ],
      "execution_count": null,
      "outputs": []
    },
    {
      "cell_type": "code",
      "metadata": {
        "id": "MgKN5fVZV4cR"
      },
      "source": [
        "x_1 =  tf.constant([[[1,2],\n",
        "                    [3,5]],\n",
        "\n",
        "                    [[10,0],\n",
        "                    [1,2]],\n",
        "\n",
        "                    [[5,0],\n",
        "                    [2,0]]])\n",
        "\n",
        "x_2 = tf.constant([[[5,1,4],\n",
        "                    [34,15,1]],\n",
        "\n",
        "                    [[1,2,2],\n",
        "                    [5,3,2]],\n",
        "\n",
        "                    [[2,2,3],\n",
        "                    [1,1,1]]])\n",
        "\n",
        "print(tf.linalg.matmul(x_1, x_2))"
      ],
      "execution_count": null,
      "outputs": []
    },
    {
      "cell_type": "code",
      "metadata": {
        "id": "ebDr3NuFY2zx"
      },
      "source": [
        "x_1 =  tf.constant([[0,0],\n",
        "                    [0,2]])\n",
        "\n",
        "x_2 = tf.constant([[1,0,0],\n",
        "                    [0,0,0]])\n",
        "\n",
        "print(tf.linalg.matmul(x_1, x_2))"
      ],
      "execution_count": null,
      "outputs": []
    },
    {
      "cell_type": "code",
      "metadata": {
        "id": "6BopZ07xa1m_"
      },
      "source": [
        "tensor_two_d = tf.constant([[1,-2,0],\n",
        "                            [3,5,100],\n",
        "                            [1,5,6],\n",
        "                            [2,3,8]], dtype = tf.float16)\n",
        "\n",
        "tensor_out_d = tf.constant([[1,0,0],\n",
        "                            [0,5,0],\n",
        "                            [0,0,6],\n",
        "                            [0,0,0]], dtype = tf.float16)\n",
        "\n",
        "#### ( m-n <= lower) and ( n-m <= upper)\n",
        "# m -- rows, n --- columns\n",
        "tf.linalg.band_part(tensor_two_d, 0, -1)"
      ],
      "execution_count": null,
      "outputs": []
    },
    {
      "cell_type": "code",
      "metadata": {
        "id": "MRDrq7d3d0X9"
      },
      "source": [
        "tensor_two_d_m_n = tf.constant([[0,-1,-2],\n",
        "                                [1,0,-1],\n",
        "                                [2,1,0],\n",
        "                                [3,2,1]], dtype = tf.float16)\n",
        "\n",
        "tensor_two_d_n_m = tf.constant([[0,1,2],\n",
        "                                [-1,0,1],\n",
        "                                [-2,-1,0],\n",
        "                                [-3,-2,-1]], dtype = tf.float16)\n",
        "\n",
        "m = 1, n = 2"
      ],
      "execution_count": null,
      "outputs": []
    },
    {
      "cell_type": "code",
      "metadata": {
        "id": "ByPOqs9455bY"
      },
      "source": [
        "tensor_two_d = tf.constant([[1,-2,0],\n",
        "                            [3,5,100],\n",
        "                            [1,5,6]], dtype = tf.float32)\n",
        "\n",
        "tensor_two_d_inv = tf.linalg.inv(tensor_two_d)"
      ],
      "execution_count": null,
      "outputs": []
    },
    {
      "cell_type": "code",
      "metadata": {
        "id": "_SswsaSz55h7"
      },
      "source": [
        "tensor_two_d@tensor_two_d_inv"
      ],
      "execution_count": null,
      "outputs": []
    },
    {
      "cell_type": "code",
      "metadata": {
        "id": "7peMc_m755kj"
      },
      "source": [
        "s,u,v = tf.linalg.svd(tensor_two_d)\n",
        "print(s)\n",
        "print(u)\n",
        "print(v)"
      ],
      "execution_count": null,
      "outputs": []
    },
    {
      "cell_type": "code",
      "metadata": {
        "id": "X1Rjpo9u55m_"
      },
      "source": [
        "tensor_three_d = tf.constant([[[1,2,0],\n",
        "                             [3,5,-1]],\n",
        "\n",
        "                            [[10,2,0],\n",
        "                             [1,0,2]],\n",
        "\n",
        "                            [[5,8,0],\n",
        "                             [2,7,0]],\n",
        "\n",
        "                            [[2,1,9],\n",
        "                             [4,-3,32]]])\n",
        "print(tensor_three_d.shape)\n",
        "x_exp = tf.expand_dims(tensor_three_d, axis = 3)\n",
        "print(x_exp.shape)\n",
        "print(tf.squeeze(x_exp, axis = 3))\n",
        "print(tf.reshape(x_exp, [4,2,3]))"
      ],
      "execution_count": null,
      "outputs": []
    },
    {
      "cell_type": "code",
      "metadata": {
        "id": "rFgCP3mdMNQs"
      },
      "source": [
        "x = tf.constant([[[2,3,4,5]]])\n",
        "print(x.shape)\n",
        "x_expanded = tf.expand_dims(x, axis = 0)\n",
        "print(x_expanded)"
      ],
      "execution_count": null,
      "outputs": []
    },
    {
      "cell_type": "code",
      "metadata": {
        "id": "1qDuhQM9MfzW"
      },
      "source": [
        "x_squeezed = tf.squeeze(x_expanded, axis = 0)\n",
        "for i in range(2):\n",
        "  x_squeezed = tf.squeeze(x_squeezed, axis = 0)\n",
        "\n",
        "print(x_squeezed)"
      ],
      "execution_count": null,
      "outputs": []
    },
    {
      "cell_type": "code",
      "metadata": {
        "id": "bULkPP3HONRz"
      },
      "source": [
        "x_reshape = tf.constant([[3,5,6,6],\n",
        "                         [4,6,-1,2]])\n",
        "\n",
        "print(tf.reshape(x_reshape, [-1]))\n",
        "print(tf.reshape(x_reshape, [8]))"
      ],
      "execution_count": null,
      "outputs": []
    },
    {
      "cell_type": "code",
      "metadata": {
        "id": "t1t5xMTzYrrC"
      },
      "source": [
        "tf.transpose(x_reshape)"
      ],
      "execution_count": null,
      "outputs": []
    },
    {
      "cell_type": "code",
      "metadata": {
        "id": "SzQVJwk0ZJmr"
      },
      "source": [
        "t1 = [[1, 2, 3],\n",
        "      [4, 5, 6],\n",
        "      [5, 6, 2],\n",
        "      [1, 2, 1]]\n",
        "\n",
        "t2 = [[7, 8, 9],\n",
        "      [10, 11, 12],\n",
        "      [0, 0, 2],\n",
        "      [-1, 5, 2]]\n",
        "\n",
        "print(tf.constant(t1).shape)\n",
        "print(tf.constant(t2).shape)\n",
        "\n",
        "tf.concat([t1, t2], axis = 0)"
      ],
      "execution_count": null,
      "outputs": []
    },
    {
      "cell_type": "code",
      "metadata": {
        "id": "I6eGMDgWtgry"
      },
      "source": [
        "tf.stack([t1,t2], axis = 2)"
      ],
      "execution_count": null,
      "outputs": []
    },
    {
      "cell_type": "code",
      "metadata": {
        "id": "Y49Hwl9LtpbL"
      },
      "source": [
        "tf.stack([t1,t2], axis = 0)"
      ],
      "execution_count": null,
      "outputs": []
    },
    {
      "cell_type": "code",
      "metadata": {
        "id": "g9AyrvBlHtMh"
      },
      "source": [
        "tf.concat([tf.expand_dims(t, axis = 0) for t in [t1,t2]], axis = 0)\n",
        "\n",
        "1,4,3 - 1,4,3 --> 2,4,3"
      ],
      "execution_count": null,
      "outputs": []
    },
    {
      "cell_type": "code",
      "metadata": {
        "id": "oKfMk0xTzpdG"
      },
      "source": [
        "t1 = [[1, 2, 3],\n",
        "      [4, 5, 6],\n",
        "      [5, 6, 2],\n",
        "      [1, 2, 1]]\n",
        "\n",
        "t2 = [[7, 8, 9],\n",
        "      [10, 11, 12],\n",
        "      [0, 0, 2],\n",
        "      [-1, 5, 2]]\n",
        "\n",
        "#4,3 - 4,3 --> 2,4,3\n",
        "#4,3 - 4,3 --> 4,2,3\n",
        "#4,3 - 4,3 --> 4,3,2"
      ],
      "execution_count": null,
      "outputs": []
    },
    {
      "cell_type": "code",
      "metadata": {
        "id": "MiMHMjLh5Y21"
      },
      "source": [
        "t = tf.constant([[1, 2, 3],\n",
        "                 [4, 5, 6]])\n",
        "\n",
        "paddings = tf.constant([[1, 5,],\n",
        "                        [2, 3]])\n",
        "\n",
        "tf.pad(t, paddings, \"CONSTANT\", constant_values = 0)"
      ],
      "execution_count": null,
      "outputs": []
    },
    {
      "cell_type": "code",
      "metadata": {
        "id": "ZHAlMK43JAkI"
      },
      "source": [
        "params = tf.constant(['p0', 'p1', 'p2', 'p3', 'p4', 'p5'])\n",
        "print(params.shape)\n",
        "params[1:3+1]"
      ],
      "execution_count": null,
      "outputs": []
    },
    {
      "cell_type": "code",
      "metadata": {
        "id": "F8yiI_yzqDT4"
      },
      "source": [
        "tf.gather(params, [0,5,3], axis = 0)"
      ],
      "execution_count": null,
      "outputs": []
    },
    {
      "cell_type": "code",
      "metadata": {
        "id": "YIAffDtDqd5w"
      },
      "source": [
        "params = tf.constant([\n",
        "\n",
        "                      [[0, 1.0, 2.0],\n",
        "                       [10.0, 11.0, 12.0],\n",
        "                       [20.0, 21.0, 22.0],\n",
        "                       [30.0, 31.0, 32.0]],\n",
        "\n",
        "                      [[3, 1.0,21],\n",
        "                       [1, 3, 88],\n",
        "                       [0, 5, 55],\n",
        "                       [0, 2, 30]]\n",
        "\n",
        "                      ])\n",
        "print(params.shape)\n",
        "tf.gather(params, [2, 0], axis = 1)"
      ],
      "execution_count": null,
      "outputs": []
    },
    {
      "cell_type": "code",
      "metadata": {
        "id": "g9wlEPIp1CLv"
      },
      "source": [
        "params = tf.constant([[3, 1.0,21],\n",
        "                       [1, 3, 88],\n",
        "                       [0, 5, 55],\n",
        "                       [0, 2, 30]])\n",
        "\n",
        "print(params.shape)\n",
        "tf.gather(params, [2, 0], axis = 0)"
      ],
      "execution_count": null,
      "outputs": []
    },
    {
      "cell_type": "code",
      "metadata": {
        "id": "fKSVf33e1CUp"
      },
      "source": [],
      "execution_count": null,
      "outputs": []
    },
    {
      "cell_type": "code",
      "metadata": {
        "id": "VKAq9TwhwaxP"
      },
      "source": [
        "indices = [2,1]\n",
        "\n",
        "params = [['a', 'b'],\n",
        "          ['c', 'd'],\n",
        "          ['e', 'f']]\n",
        "\n",
        "tf.gather_nd(params, indices)"
      ],
      "execution_count": null,
      "outputs": []
    },
    {
      "cell_type": "code",
      "metadata": {
        "id": "xvcGnQFF01Ki"
      },
      "source": [
        "indices = [[0, 1, 0], [1, 0, 1]]\n",
        "\n",
        "params = [[['a0', 'b0'],\n",
        "           ['c0', 'd0']],\n",
        "\n",
        "          [['a1', 'b1'],\n",
        "           ['c1', 'd1']]]\n",
        "\n",
        "tf.gather_nd(params, indices)"
      ],
      "execution_count": null,
      "outputs": []
    },
    {
      "cell_type": "code",
      "metadata": {
        "id": "XgGC1O5N01Lz"
      },
      "source": [
        "indices = [[[0, 1],\n",
        "            [1, 0]],\n",
        "\n",
        "            [[0, 0],\n",
        "             [1, 1]]]\n",
        "\n",
        "params = [[['a0', 'b0'],\n",
        "           ['c0', 'd0']],\n",
        "\n",
        "          [['a1', 'b1'],\n",
        "           ['c1', 'd1']]]\n",
        "\n",
        "tf.gather_nd(params, indices)"
      ],
      "execution_count": null,
      "outputs": []
    },
    {
      "cell_type": "code",
      "metadata": {
        "id": "jBFmBZ3w01Pf"
      },
      "source": [
        "indices = [[[0, 1],\n",
        "            [1, 0]],\n",
        "\n",
        "            [[0, 0],\n",
        "             [1, 1]]]\n",
        "\n",
        "params = [[['a0', 'b0'],\n",
        "           ['c0', 'd0']],\n",
        "\n",
        "          [['a1', 'b1'],\n",
        "           ['c1', 'd1']]]\n",
        "\n",
        "\n",
        "tf.gather_nd(params, indices, batch_dims = 1)"
      ],
      "execution_count": null,
      "outputs": []
    },
    {
      "cell_type": "code",
      "metadata": {
        "id": "S7n0CSco0ykG"
      },
      "source": [
        "indices = [[0,1],\n",
        "           [1,0]]\n",
        "\n",
        "params = [[['a0', 'b0'],\n",
        "           ['c0', 'd0']],\n",
        "\n",
        "          [['a1', 'b1'],\n",
        "           ['c1', 'd1']]]\n",
        "\n",
        "\n",
        "tf.gather_nd(params, indices, batch_dims = 1)"
      ],
      "execution_count": null,
      "outputs": []
    },
    {
      "cell_type": "code",
      "metadata": {
        "id": "tutRTwsi9ElS"
      },
      "source": [
        "tensor_two_d = tf.constant([[1,2,0],\n",
        "                            [3,5,-1],\n",
        "                            [1,5,6],\n",
        "                            [2,3,8]])\n",
        "print(tensor_two_d)"
      ],
      "execution_count": null,
      "outputs": []
    },
    {
      "cell_type": "code",
      "metadata": {
        "id": "nnTA9vIhIIXj"
      },
      "source": [
        "tensor_two_d =[[1,2,0],\n",
        "               [3,],\n",
        "               [1,5,6,5,6],\n",
        "               [2,3]]\n",
        "tensor_ragged = tf.ragged.constant(tensor_two_d)\n",
        "print(tensor_ragged)"
      ],
      "execution_count": null,
      "outputs": []
    },
    {
      "cell_type": "code",
      "metadata": {
        "id": "iYgA5jT3Izwx"
      },
      "source": [
        "print(tf.RaggedTensor.from_row_lengths(\n",
        "    values=[3, 1, 4, 1, 5, 9, 2, 6],\n",
        "    row_lengths=[4, 0, 3, 1,0]))"
      ],
      "execution_count": null,
      "outputs": []
    },
    {
      "cell_type": "code",
      "metadata": {
        "id": "wwfmFw9o_CDi"
      },
      "source": [
        "tensor_sparse = tf.sparse.SparseTensor(\n",
        "    indices = [[1,1],[3,4]], values = [11,56], dense_shape = [5,6]\n",
        ")"
      ],
      "execution_count": null,
      "outputs": []
    },
    {
      "cell_type": "code",
      "metadata": {
        "id": "Fa3RKybXJax8"
      },
      "source": [
        "print(tensor_sparse)"
      ],
      "execution_count": null,
      "outputs": []
    },
    {
      "cell_type": "code",
      "metadata": {
        "id": "UyZT52wjKXzn"
      },
      "source": [
        "tf.sparse.to_dense(tensor_sparse)"
      ],
      "execution_count": null,
      "outputs": []
    },
    {
      "cell_type": "code",
      "metadata": {
        "id": "is0w7-j1KjpO"
      },
      "source": [
        "tensor_string = tf.constant([\"hello\", \"i am \", \"a string\"])\n",
        "print(tensor_string)"
      ],
      "execution_count": null,
      "outputs": []
    },
    {
      "cell_type": "code",
      "metadata": {
        "id": "Rm5sG9NAM2y1"
      },
      "source": [
        "tf.strings.join(tensor_string, separator=\"+\")"
      ],
      "execution_count": null,
      "outputs": []
    },
    {
      "cell_type": "code",
      "metadata": {
        "id": "d9JKnbpmNdSm"
      },
      "source": [
        "x = tf.constant([1,2])"
      ],
      "execution_count": null,
      "outputs": []
    },
    {
      "cell_type": "code",
      "metadata": {
        "id": "Uc0h-FtEQuI7"
      },
      "source": [
        "x_var = tf.Variable(x, name = 'var1')\n",
        "print(x_var)"
      ],
      "execution_count": null,
      "outputs": []
    },
    {
      "cell_type": "code",
      "metadata": {
        "id": "px97CMCBQvQU"
      },
      "source": [
        "x_var.assign_add([5,8])"
      ],
      "execution_count": null,
      "outputs": []
    },
    {
      "cell_type": "code",
      "metadata": {
        "id": "xpbq8abfaCzM"
      },
      "source": [
        "with tf.device('CPU:0'):\n",
        "  x_1 = tf.constant([1,3,4])\n",
        "  x_2 = tf.constant([1])\n",
        "\n",
        "with tf.device('GPU:0'):\n",
        "  x_3 = x_1 + x_2\n",
        "\n",
        "print(x_1, x_1.device)\n",
        "print(x_2, x_2.device)\n",
        "print(x_3, x_3.device)"
      ],
      "execution_count": null,
      "outputs": []
    },
    {
      "cell_type": "code",
      "source": [],
      "metadata": {
        "id": "4DLXUn1BJAXx"
      },
      "execution_count": null,
      "outputs": []
    },
    {
      "cell_type": "code",
      "source": [
        "!wget https://github.com/srihari-humbarwadi/datasets/releases/download/v0.1.0/data.zip"
      ],
      "metadata": {
        "id": "Y-UOheDTF3dl"
      },
      "execution_count": null,
      "outputs": []
    },
    {
      "cell_type": "code",
      "source": [
        "!unzip /content/data.zip -d /content/dataset"
      ],
      "metadata": {
        "id": "vEs65byXF3f6"
      },
      "execution_count": null,
      "outputs": []
    },
    {
      "cell_type": "code",
      "source": [
        "import tensorflow as tf"
      ],
      "metadata": {
        "id": "PZlofuJ6GCiA"
      },
      "execution_count": null,
      "outputs": []
    },
    {
      "cell_type": "code",
      "source": [
        "input_var = tf.Variable(initial_value=10.)\n",
        "with tf.GradientTape() as tape:\n",
        "  result = tf.square(input_var)\n",
        "gradient = tape.gradient(result, input_var)"
      ],
      "metadata": {
        "id": "-GgO56FCNCDT"
      },
      "execution_count": null,
      "outputs": []
    },
    {
      "cell_type": "code",
      "source": [
        "print(gradient)"
      ],
      "metadata": {
        "id": "CDIQ8WdfNCGA"
      },
      "execution_count": null,
      "outputs": []
    },
    {
      "cell_type": "code",
      "source": [
        "input_const = tf.constant(10.)\n",
        "with tf.GradientTape() as tape:\n",
        "  tape.watch(input_const)\n",
        "  result = tf.square(input_const)\n",
        "gradient = tape.gradient(result, input_const)"
      ],
      "metadata": {
        "id": "oK79nowINCKJ"
      },
      "execution_count": null,
      "outputs": []
    },
    {
      "cell_type": "code",
      "source": [
        "print(gradient)"
      ],
      "metadata": {
        "id": "9Y_C3CfXdsBN"
      },
      "execution_count": null,
      "outputs": []
    },
    {
      "cell_type": "code",
      "source": [
        "time = tf.Variable(0.)\n",
        "with tf.GradientTape() as outer_tape:\n",
        "  with tf.GradientTape() as inner_tape:\n",
        "    position = 4.9 * time ** 2\n",
        "  speed = inner_tape.gradient(position, time)\n",
        "acceleration = outer_tape.gradient(speed, time)"
      ],
      "metadata": {
        "id": "_I8jgsV0dtnH"
      },
      "execution_count": null,
      "outputs": []
    },
    {
      "cell_type": "code",
      "source": [
        "print(speed)"
      ],
      "metadata": {
        "id": "QMh8VmJteYA9"
      },
      "execution_count": null,
      "outputs": []
    },
    {
      "cell_type": "code",
      "source": [
        "print(acceleration)"
      ],
      "metadata": {
        "id": "-zQJQVMBeY__"
      },
      "execution_count": null,
      "outputs": []
    },
    {
      "cell_type": "code",
      "source": [],
      "metadata": {
        "id": "6UpfcJ4KeZy1"
      },
      "execution_count": null,
      "outputs": []
    },
    {
      "cell_type": "code",
      "source": [
        "tensor_indexed = tf.constant([2,4,9,0,4,5,6,7])\n",
        "                              0 1 2 3 4 5 6 7"
      ],
      "metadata": {
        "id": "Jn_7YD6LlFWl"
      },
      "execution_count": null,
      "outputs": []
    },
    {
      "cell_type": "code",
      "source": [
        "3:7\n",
        "\n",
        "\n",
        "tensor_indexed[3:7]  3 ---> 6"
      ],
      "metadata": {
        "id": "hlA8UrgflFgy"
      },
      "execution_count": null,
      "outputs": []
    },
    {
      "cell_type": "code",
      "source": [
        "print(tensor_indexed[0:7:1])\n",
        "print(tensor_indexed[0:7:2])"
      ],
      "metadata": {
        "id": "CbkGiYZ2lFiT"
      },
      "execution_count": null,
      "outputs": []
    },
    {
      "cell_type": "code",
      "source": [
        "tensor_indexed[-1]"
      ],
      "metadata": {
        "id": "kTIGmUiJlFj6"
      },
      "execution_count": null,
      "outputs": []
    },
    {
      "cell_type": "code",
      "source": [],
      "metadata": {
        "id": "_bcFAZavlFle"
      },
      "execution_count": null,
      "outputs": []
    },
    {
      "cell_type": "code",
      "source": [
        "tensor_indexed = tf.constant([[2,3,4,5,6],\n",
        "                              [9,0,4,2,1],\n",
        "                              [0,0,1,7,0]])"
      ],
      "metadata": {
        "id": "LTghbJGclFnM"
      },
      "execution_count": null,
      "outputs": []
    },
    {
      "cell_type": "code",
      "source": [
        "tensor_indexed[0:2,2:4]"
      ],
      "metadata": {
        "id": "g9u8ANuJ5L-N"
      },
      "execution_count": null,
      "outputs": []
    },
    {
      "cell_type": "code",
      "source": [
        "tensor_indexed[2,2:4+1]"
      ],
      "metadata": {
        "id": "g_yHohTglFor"
      },
      "execution_count": null,
      "outputs": []
    },
    {
      "cell_type": "code",
      "source": [
        "print(tensor_indexed[0,...])\n",
        "print(tensor_indexed[0:1,...])"
      ],
      "metadata": {
        "id": "K4Z--GqZlGUN"
      },
      "execution_count": null,
      "outputs": []
    },
    {
      "cell_type": "code",
      "source": [
        "tensor_indexed = tf.constant(\n",
        "                              [[[1,2,0],\n",
        "                                [3,5,-1]],\n",
        "\n",
        "                              [[10,2,0],\n",
        "                               [1,0,2]],\n",
        "\n",
        "                              [[5,8,0],\n",
        "                               [2,7,0]],\n",
        "\n",
        "                              [[2,1,9],\n",
        "                               [4,-3,32]]])"
      ],
      "metadata": {
        "id": "dLB5MMoJlGYt"
      },
      "execution_count": null,
      "outputs": []
    },
    {
      "cell_type": "code",
      "source": [
        "print(tensor_indexed.shape)"
      ],
      "metadata": {
        "id": "3T8XiL6h8h3J"
      },
      "execution_count": null,
      "outputs": []
    },
    {
      "cell_type": "code",
      "source": [
        "tensor_indexed[:,:,2]"
      ],
      "metadata": {
        "id": "cOKk7cOdlGeM"
      },
      "execution_count": null,
      "outputs": []
    },
    {
      "cell_type": "code",
      "source": [
        "x = tf.constant([2,-1,3,-0.1,0])\n",
        "print(tf.abs(x))"
      ],
      "metadata": {
        "id": "nt9i5cxRlGil"
      },
      "execution_count": null,
      "outputs": []
    },
    {
      "cell_type": "code",
      "source": [
        "x = tf.constant(2+3j)\n",
        "print(tf.abs(x))"
      ],
      "metadata": {
        "id": "sfiOSjoklGnZ"
      },
      "execution_count": null,
      "outputs": []
    },
    {
      "cell_type": "code",
      "source": [
        "tf.sqrt(2.**2+3.**2)"
      ],
      "metadata": {
        "id": "Dqa0-whllGrj"
      },
      "execution_count": null,
      "outputs": []
    },
    {
      "cell_type": "code",
      "source": [
        "x = tf.constant([2,3,5,7])\n",
        "y = tf.constant([0,2,4,5])\n",
        "print(tf.math.divide(x,y))"
      ],
      "metadata": {
        "id": "P3ev2dqrlGwZ"
      },
      "execution_count": null,
      "outputs": []
    },
    {
      "cell_type": "code",
      "source": [
        "x = tf.constant([[2,3,4,5]])\n",
        "y = tf.constant([[1],[3]])\n",
        "print(tf.math.maximum(x,y))"
      ],
      "metadata": {
        "id": "955B2wjLlG0B"
      },
      "execution_count": null,
      "outputs": []
    },
    {
      "cell_type": "code",
      "source": [
        "A = tf.constant([2, 20, 30, 3, 6])\n",
        "tf.math.argmin(A)"
      ],
      "metadata": {
        "id": "9vDpI6sCKQm8"
      },
      "execution_count": null,
      "outputs": []
    },
    {
      "cell_type": "code",
      "source": [
        "t_argmin = tf.constant([\n",
        "  [3,1,9,6,5],\n",
        "  [0,1,7,3,2],\n",
        "  [1,5,1,2,0],\n",
        "  [7,3,0,9,0],\n",
        "\n",
        "])\n",
        "tf.math.argmin(t_argmin,axis=1)"
      ],
      "metadata": {
        "id": "fzQLqkg9KRUQ"
      },
      "execution_count": null,
      "outputs": []
    },
    {
      "cell_type": "code",
      "source": [
        "x = tf.constant([[2, 2], [3, 3]])\n",
        "y = tf.constant([[0, 1], [2, 3]])\n",
        "tf.pow(x, y)  # [[256, 65536], [9, 27]]"
      ],
      "metadata": {
        "id": "aKMN0wo8KRdc"
      },
      "execution_count": null,
      "outputs": []
    },
    {
      "cell_type": "code",
      "source": [
        "input_tensor = tf.constant([\n",
        "  [3,1,9,6,5],\n",
        "  [0,1,7,3,2],\n",
        "  [1,5,1,2,0],\n",
        "  [7,3,0,9,0],\n",
        "\n",
        "])\n",
        "print(tf.math.reduce_sum(\n",
        "    input_tensor, axis=1, keepdims=True,\n",
        "))\n"
      ],
      "metadata": {
        "id": "0fO1FqNxKRg6"
      },
      "execution_count": null,
      "outputs": []
    },
    {
      "cell_type": "code",
      "source": [
        "result = tf.math.top_k([1, 2, 98, 1, 1, 99, 3, 1, 3, 96, 4, 1],\n",
        "                        k=1)\n",
        "print(result)"
      ],
      "metadata": {
        "id": "0C845EfqYY_f"
      },
      "execution_count": null,
      "outputs": []
    },
    {
      "cell_type": "code",
      "source": [
        "x = tf.constant([-50,-5e10, 1.0, 50.0, 100.0])\n",
        "tf.math.sigmoid(x)"
      ],
      "metadata": {
        "id": "N1kvOBrTYZD4"
      },
      "execution_count": null,
      "outputs": []
    },
    {
      "cell_type": "code",
      "source": [
        "a = tf.constant([\n",
        "  [1,5,1],\n",
        "  [7,3,0],\n",
        "\n",
        "])\n",
        "\n",
        "b = tf.constant([\n",
        "  [3,1],\n",
        "  [0,1],\n",
        "  [1,5],\n",
        "\n",
        "])\n",
        "print(a.shape, b.shape)\n",
        "print(tf.linalg.matmul(a,b))\n",
        "#print(a*b)"
      ],
      "metadata": {
        "id": "tHzqH9UsYZGk"
      },
      "execution_count": null,
      "outputs": []
    },
    {
      "cell_type": "code",
      "source": [
        "a@b"
      ],
      "metadata": {
        "id": "89tI14CkYZJr"
      },
      "execution_count": null,
      "outputs": []
    },
    {
      "cell_type": "code",
      "source": [
        "a = tf.constant([\n",
        "  [1,5,1],\n",
        "\n",
        "])\n",
        "print(a.shape,tf.transpose(a))"
      ],
      "metadata": {
        "id": "rFNwjjSXYZM1"
      },
      "execution_count": null,
      "outputs": []
    },
    {
      "cell_type": "code",
      "source": [
        "a = tf.constant([\n",
        "  [1,5,1],\n",
        "])\n",
        "\n",
        "b = tf.constant([\n",
        "  [3,1],\n",
        "  [0,1],\n",
        "  [1,5],\n",
        "])\n",
        "\n",
        "print(a.shape, b.shape, tf.linalg.matrix_transpose(b).shape)"
      ],
      "metadata": {
        "id": "9OhkGpmGYZQ1"
      },
      "execution_count": null,
      "outputs": []
    },
    {
      "cell_type": "code",
      "source": [
        "a@b"
      ],
      "metadata": {
        "id": "RjYO1UegYZTx"
      },
      "execution_count": null,
      "outputs": []
    },
    {
      "cell_type": "code",
      "source": [
        "tf.linalg.matmul(a,b, transpose_b=True)"
      ],
      "metadata": {
        "id": "0mfp5hK-YZWh"
      },
      "execution_count": null,
      "outputs": []
    },
    {
      "cell_type": "code",
      "source": [
        "a = tf.constant(\n",
        "            [[[1,2],\n",
        "              [3,5]],\n",
        "\n",
        "            [[10,2],\n",
        "              [1,0]],\n",
        "\n",
        "            [[5,8],\n",
        "              [2,7]],\n",
        "\n",
        "            [[2,1],\n",
        "              [4,-3]]])\n",
        "\n",
        "\n",
        "b = tf.constant(\n",
        "            [[[1,2,0],\n",
        "              [3,5,-1]],\n",
        "\n",
        "            [[10,2,0],\n",
        "              [1,0,2]],\n",
        "\n",
        "            [[5,8,0],\n",
        "              [2,7,0]],\n",
        "\n",
        "            [[2,1,9],\n",
        "              [4,-3,32]]])\n"
      ],
      "metadata": {
        "id": "mvCzRBXFYZZV"
      },
      "execution_count": null,
      "outputs": []
    },
    {
      "cell_type": "code",
      "source": [
        "print(a.shape,b.shape)"
      ],
      "metadata": {
        "id": "cQ5lIcW44boh"
      },
      "execution_count": null,
      "outputs": []
    },
    {
      "cell_type": "code",
      "source": [
        "print(tf.linalg.matmul(a,b))"
      ],
      "metadata": {
        "id": "h36qU69G4bsS"
      },
      "execution_count": null,
      "outputs": []
    },
    {
      "cell_type": "code",
      "source": [
        "print(a[0],b[0])"
      ],
      "metadata": {
        "id": "0dqvXjcf4bvV"
      },
      "execution_count": null,
      "outputs": []
    },
    {
      "cell_type": "code",
      "source": [
        "a[2]@b[2]"
      ],
      "metadata": {
        "id": "F5nMATiy4bzV"
      },
      "execution_count": null,
      "outputs": []
    },
    {
      "cell_type": "code",
      "source": [
        "a = tf.constant([\n",
        "  [1,5,1],\n",
        "  [7,9,3],\n",
        "  [1,3,1],\n",
        "])\n",
        "m=n"
      ],
      "metadata": {
        "id": "fReGCEMs4b3O"
      },
      "execution_count": null,
      "outputs": []
    },
    {
      "cell_type": "code",
      "source": [
        "m=0, n=1  m-n=-1 n-m=1\n",
        "      False              True                   False              False\n",
        "              True                                      False\n",
        "                                   False\n",
        "(num_lower < 0 || (m-n) <= num_lower)) && (num_upper < 0 || (n-m) <= num_upper)."
      ],
      "metadata": {
        "id": "Z9HjcD9j7AFC"
      },
      "execution_count": null,
      "outputs": []
    },
    {
      "cell_type": "code",
      "source": [
        "print(a)\n",
        "print(tf.linalg.band_part(a, 0, -1))# ==> Upper triangular part.\n",
        "print(tf.linalg.band_part(a, -1, 0))# ==> Lower triangular part.\n",
        "print(tf.linalg.band_part(a, 0, 0))# ==> Diagonal."
      ],
      "metadata": {
        "id": "Cwd8Fg-D4b6s"
      },
      "execution_count": null,
      "outputs": []
    },
    {
      "cell_type": "code",
      "source": [
        "a = tf.constant([\n",
        "    [2,6,5,2],\n",
        "    [2,-2,2,3],\n",
        "    [1,5,4,0]\n",
        "])\n",
        "b = tf.constant([\n",
        "    [2,9,0,3,0],\n",
        "    [3,6,8,-2,2],\n",
        "    [1,3,5,0,1],\n",
        "    [3,0,2,0,5]\n",
        "])\n",
        "c = tf.linalg.matmul(a,b)\n",
        "print(a.shape,b.shape)\n",
        "print(c.shape)\n",
        "print(c)"
      ],
      "metadata": {
        "id": "TocnWviG4b9l"
      },
      "execution_count": null,
      "outputs": []
    },
    {
      "cell_type": "code",
      "source": [
        "tf.einsum(\"ij,jk->ik\",a,b)"
      ],
      "metadata": {
        "id": "_8WhJPd94b_3"
      },
      "execution_count": null,
      "outputs": []
    },
    {
      "cell_type": "code",
      "source": [
        "a = tf.constant([2,6,5,2])\n",
        "b = tf.constant([0,1,3,2])\n",
        "tf.einsum(\"i,j->\",a,b)"
      ],
      "metadata": {
        "id": "gZnzB1gw4cCl"
      },
      "execution_count": null,
      "outputs": []
    },
    {
      "cell_type": "code",
      "source": [
        "a = tf.constant([2,6,5,2])\n",
        "b = tf.constant([0,1,3,2])\n",
        "c = tf.einsum(\"i,j->ij\",a,b)\n",
        "print(c)\n",
        "print(tf.reduce_sum(c))\n",
        "\n",
        "print(tf.einsum(\"i,j->\",a,b))"
      ],
      "metadata": {
        "id": "X42d71_64cFO"
      },
      "execution_count": null,
      "outputs": []
    },
    {
      "cell_type": "code",
      "source": [
        "b = tf.constant([\n",
        "    [2,9,0,3,0],\n",
        "    [3,6,8,-2,2],\n",
        "    [1,3,5,0,1],\n",
        "    [3,0,2,0,5]\n",
        "])\n",
        "tf.einsum(\"ij->ji\",b)"
      ],
      "metadata": {
        "id": "890kodadmoyv"
      },
      "execution_count": null,
      "outputs": []
    },
    {
      "cell_type": "code",
      "source": [
        "a = tf.constant([\n",
        "    [2,6,5,2],\n",
        "    [2,-2,2,3],\n",
        "    [1,5,4,0]\n",
        "])\n",
        "b = tf.constant([\n",
        "    [2,9,0,3],\n",
        "    [3,6,8,-2],\n",
        "    [1,3,5,0],\n",
        "])\n",
        "tf.einsum(\"ij,ij->ij\",a,b)"
      ],
      "metadata": {
        "id": "yEz7ZKgsmpD8"
      },
      "execution_count": null,
      "outputs": []
    },
    {
      "cell_type": "code",
      "source": [
        "a*b"
      ],
      "metadata": {
        "id": "PIBOUalJmpJT"
      },
      "execution_count": null,
      "outputs": []
    },
    {
      "cell_type": "code",
      "source": [
        "a = tf.constant([\n",
        "\n",
        "    [[2,6,5,2],\n",
        "     [2,-2,2,3],\n",
        "     [1,5,4,0]],\n",
        "\n",
        "    [[2,6,5,2],\n",
        "     [2,-2,2,3],\n",
        "     [1,5,4,0]]\n",
        "    ])\n",
        "b = tf.constant([\n",
        "    [[2,9,0,3,0],\n",
        "     [3,6,8,-2,2],\n",
        "     [1,3,5,0,1],\n",
        "     [3,0,2,0,5]],\n",
        "\n",
        "    [[2,9,0,3,0],\n",
        "     [3,6,8,-2,2],\n",
        "     [1,3,5,0,1],\n",
        "     [3,0,2,0,5]]\n",
        "])"
      ],
      "metadata": {
        "id": "Ko4I74immpN8"
      },
      "execution_count": null,
      "outputs": []
    },
    {
      "cell_type": "code",
      "source": [
        "print(a.shape,b.shape)"
      ],
      "metadata": {
        "id": "896VxhWcs3a1"
      },
      "execution_count": null,
      "outputs": []
    },
    {
      "cell_type": "code",
      "source": [
        "tf.einsum(\"bij,bjk->bik\",a,b)"
      ],
      "metadata": {
        "id": "QmgmBaC1s3pd"
      },
      "execution_count": null,
      "outputs": []
    },
    {
      "cell_type": "code",
      "source": [],
      "metadata": {
        "id": "-UponkMHs3t_"
      },
      "execution_count": null,
      "outputs": []
    },
    {
      "cell_type": "code",
      "source": [
        "a = tf.constant([\n",
        "\n",
        "    [[2,6,5,2],\n",
        "     [2,-2,2,3],\n",
        "     [1,5,4,0]],\n",
        "\n",
        "    [[2,6,5,2],\n",
        "     [2,-2,2,3],\n",
        "     [1,5,4,0]]\n",
        "    ])\n",
        "\n",
        "print(tf.linalg.matmul(a,a,transpose_b=True))\n",
        "print(a.shape)"
      ],
      "metadata": {
        "id": "Y9JNLLA2vH7k"
      },
      "execution_count": null,
      "outputs": []
    },
    {
      "cell_type": "code",
      "source": [
        "2,3,4 @ transpose(2,30,4 )\n",
        "2,3,4 @ (2,4,30)"
      ],
      "metadata": {
        "id": "dtpmlbeCw0Kg"
      },
      "execution_count": null,
      "outputs": []
    },
    {
      "cell_type": "code",
      "source": [
        "print(tf.einsum(\"bij,bkj->bik\",a,a))"
      ],
      "metadata": {
        "id": "Yj2at37lwExa"
      },
      "execution_count": null,
      "outputs": []
    },
    {
      "cell_type": "code",
      "source": [],
      "metadata": {
        "id": "cCt5FznCc3Lt"
      },
      "execution_count": null,
      "outputs": []
    },
    {
      "cell_type": "code",
      "source": [
        "a = tf.constant([1,3,4,5,6,7])\n",
        "print(a.shape)"
      ],
      "metadata": {
        "id": "GKwNOc_kxhpT"
      },
      "execution_count": null,
      "outputs": []
    },
    {
      "cell_type": "code",
      "source": [
        "tf.expand_dims(a,axis=0)"
      ],
      "metadata": {
        "id": "2zYmank9b7lQ"
      },
      "execution_count": null,
      "outputs": []
    },
    {
      "cell_type": "code",
      "source": [
        "tf.expand_dims(a,axis=1)"
      ],
      "metadata": {
        "id": "h2aE_JUsb7sZ"
      },
      "execution_count": null,
      "outputs": []
    },
    {
      "cell_type": "code",
      "source": [
        "a = tf.constant([\n",
        "\n",
        "    [[2,6,5,2],\n",
        "     [2,-2,2,3],\n",
        "     [1,5,4,0]],\n",
        "\n",
        "    [[2,6,5,2],\n",
        "     [2,-2,2,3],\n",
        "     [1,5,4,0]]\n",
        "    ])\n",
        "print(a.shape)\n",
        "1,2,3,4"
      ],
      "metadata": {
        "id": "crg-KMR2b7xh"
      },
      "execution_count": null,
      "outputs": []
    },
    {
      "cell_type": "code",
      "source": [
        "c = tf.expand_dims(a,axis=-1)\n",
        "print(c.shape)\n",
        "print(tf.squeeze(c,axis=-1))"
      ],
      "metadata": {
        "id": "aqGYmVPzb70i"
      },
      "execution_count": null,
      "outputs": []
    },
    {
      "cell_type": "code",
      "source": [
        "a = tf.constant([1,2,3,4,5,6,7,8,9])\n",
        "print(tf.reshape(a,[3,-1,1]))"
      ],
      "metadata": {
        "id": "OYEIRhFCb75g"
      },
      "execution_count": null,
      "outputs": []
    },
    {
      "cell_type": "code",
      "source": [
        "t1 = tf.constant(\n",
        "    [[1, 4, 3],\n",
        "      [2, 5, 6]])\n",
        "print(t1.shape)"
      ],
      "metadata": {
        "id": "KqGBGyyWfe0T"
      },
      "execution_count": null,
      "outputs": []
    },
    {
      "cell_type": "code",
      "source": [
        "tf.reshape(t1,[6])"
      ],
      "metadata": {
        "id": "y3yI_qfWgB2y"
      },
      "execution_count": null,
      "outputs": []
    },
    {
      "cell_type": "code",
      "source": [
        "t1 = tf.constant(\n",
        "    [[1, 2, 3],\n",
        "     [4, 5, 6]])\n",
        "\n",
        "t2 = tf.constant(\n",
        "    [[7, 8, 9],\n",
        "     [10, 11, 12]])\n",
        "print(t1.shape, t2.shape)"
      ],
      "metadata": {
        "id": "DGig13_ygIpN"
      },
      "execution_count": null,
      "outputs": []
    },
    {
      "cell_type": "code",
      "source": [
        "tf.concat([tf.expand_dims(t1,-1),\n",
        "          tf.expand_dims(t2,-1)],axis=-1)"
      ],
      "metadata": {
        "id": "4C_WfYoG6-eL"
      },
      "execution_count": null,
      "outputs": []
    },
    {
      "cell_type": "code",
      "source": [
        "tf.stack([t1,t2],axis=-1)"
      ],
      "metadata": {
        "id": "V58hAdvw4z4K"
      },
      "execution_count": null,
      "outputs": []
    },
    {
      "cell_type": "code",
      "source": [
        "tf.concat([t1,t2],axis=0)"
      ],
      "metadata": {
        "id": "qvUfXn6A4VND"
      },
      "execution_count": null,
      "outputs": []
    },
    {
      "cell_type": "code",
      "source": [
        "t1 = tf.constant([\n",
        "    [[1, 2],\n",
        "     [2, 3]],\n",
        "\n",
        "    [[4, 4],\n",
        "     [5, 3]]\n",
        "])\n",
        "t2 = tf.constant([\n",
        "    [[7, 4],\n",
        "     [8, 4]],\n",
        "\n",
        "    [[2, 10],\n",
        "     [15, 11]]\n",
        "])\n",
        "print(t1.shape,t2.shape)\n"
      ],
      "metadata": {
        "id": "RRGcD-WG4VU-"
      },
      "execution_count": null,
      "outputs": []
    },
    {
      "cell_type": "code",
      "source": [
        "(2, 2, 2) (2, 2, 2) ---> (4,2,2)"
      ],
      "metadata": {
        "id": "A8OhXUFB5o1y"
      },
      "execution_count": null,
      "outputs": []
    },
    {
      "cell_type": "code",
      "source": [
        "print(tf.concat([t1, t2], 0))"
      ],
      "metadata": {
        "id": "fbkkVPA04Vag"
      },
      "execution_count": null,
      "outputs": []
    },
    {
      "cell_type": "code",
      "source": [
        "t = tf.constant([[1, 2, 3],\n",
        "                 [4, 5, 6]])\n",
        "paddings = tf.constant([[4, 1,],\n",
        "                        [2, 4]])\n",
        "# 'constant_values' is 0.\n",
        "# rank of 't' is 2.\n",
        "print(tf.pad(t, paddings, \"CONSTANT\", constant_values=9))"
      ],
      "metadata": {
        "id": "WNgBF40i4Vd3"
      },
      "execution_count": null,
      "outputs": []
    },
    {
      "cell_type": "code",
      "source": [
        "a = tf.constant([4,5,6,7])\n",
        "print(a[1:3])"
      ],
      "metadata": {
        "id": "cpg_4OaO4ViQ"
      },
      "execution_count": null,
      "outputs": []
    },
    {
      "cell_type": "code",
      "source": [
        "tf.gather(a,[0,3,1],axis=0)"
      ],
      "metadata": {
        "id": "Vy-Zk6Vf4VlH"
      },
      "execution_count": null,
      "outputs": []
    },
    {
      "cell_type": "code",
      "source": [
        "b = tf.constant([\n",
        "    [2,9,0,3,0],\n",
        "    [3,6,8,-2,2],\n",
        "    [1,3,5,0,1],\n",
        "    [3,0,2,0,5]\n",
        "])"
      ],
      "metadata": {
        "id": "Iu6AqSyV4Vot"
      },
      "execution_count": null,
      "outputs": []
    },
    {
      "cell_type": "code",
      "source": [
        "tf.gather_nd(b,[[1],\n",
        "                [3]])"
      ],
      "metadata": {
        "id": "HBQoZqRzPsxq"
      },
      "execution_count": null,
      "outputs": []
    },
    {
      "cell_type": "code",
      "source": [
        "tf.gather(b,[1,3],axis=0)"
      ],
      "metadata": {
        "id": "GqDJNADn4VsD"
      },
      "execution_count": null,
      "outputs": []
    },
    {
      "cell_type": "code",
      "source": [
        "tf.gather(b,[[1,3],\n",
        "             [2,0]],axis=0)"
      ],
      "metadata": {
        "id": "8D7WmvbKPsps"
      },
      "execution_count": null,
      "outputs": []
    },
    {
      "cell_type": "code",
      "source": [
        "a = tf.ragged.constant([\n",
        "    [1,3],\n",
        "    [4,5,6],\n",
        "    [7]\n",
        "])\n",
        "print(a)"
      ],
      "metadata": {
        "id": "kYB5FJLFPs3V"
      },
      "execution_count": null,
      "outputs": []
    },
    {
      "cell_type": "code",
      "source": [
        "tf.ragged.boolean_mask(  # Mask a 2D RaggedTensor.\n",
        "    tf.ragged.constant([[1, 2, 3], [4], [5, 6]]),\n",
        "    tf.ragged.constant([[False, False, True], [False], [True, True]])).to_list()"
      ],
      "metadata": {
        "id": "KtQvdMMrPs6_"
      },
      "execution_count": null,
      "outputs": []
    },
    {
      "cell_type": "code",
      "source": [
        "values = [3, 1, 4, 1, 5, 9, 2, 6,7]\n",
        "\n",
        "\n",
        "print(tf.RaggedTensor.from_uniform_row_length(values, uniform_row_length=3))\n"
      ],
      "metadata": {
        "id": "Sq82xXm4Ps-a"
      },
      "execution_count": null,
      "outputs": []
    },
    {
      "cell_type": "code",
      "source": [
        "sparse_tensor = tf.sparse.SparseTensor(\n",
        "    indices=[[0, 0],\n",
        "             [2, 5]], values=[5, 9], dense_shape=[5,6])"
      ],
      "metadata": {
        "id": "cTtoEwNmPtB_"
      },
      "execution_count": null,
      "outputs": []
    },
    {
      "cell_type": "code",
      "source": [
        "sparse_tensor"
      ],
      "metadata": {
        "id": "DD-YptxXPtG-"
      },
      "execution_count": null,
      "outputs": []
    },
    {
      "cell_type": "code",
      "source": [
        "tf.sparse.to_dense(sparse_tensor)"
      ],
      "metadata": {
        "id": "JHIM49gFPtLC"
      },
      "execution_count": null,
      "outputs": []
    },
    {
      "cell_type": "code",
      "source": [
        "tensor_string_1 = tf.constant([\"i am \", \"a\", \"string\"])\n",
        "tensor_string_2 = tf.constant([\"i am \", \"not a\", \"string\"])"
      ],
      "metadata": {
        "id": "IOER_RBfPtOf"
      },
      "execution_count": null,
      "outputs": []
    },
    {
      "cell_type": "code",
      "source": [
        "tf.strings.join([tensor_string_1,tensor_string_2], separator=\"+\")"
      ],
      "metadata": {
        "id": "f8thvAaUGuLW"
      },
      "execution_count": null,
      "outputs": []
    },
    {
      "cell_type": "code",
      "source": [
        "x = tf.constant([1,2,3,4,5])"
      ],
      "metadata": {
        "id": "tNeZ5lt7GuPM"
      },
      "execution_count": null,
      "outputs": []
    },
    {
      "cell_type": "code",
      "source": [
        "x_var = tf.Variable(x)"
      ],
      "metadata": {
        "id": "FXf6-EmQGuSr"
      },
      "execution_count": null,
      "outputs": []
    },
    {
      "cell_type": "code",
      "source": [
        "print(x,x_var)"
      ],
      "metadata": {
        "id": "qXiHGCb7GuWW"
      },
      "execution_count": null,
      "outputs": []
    },
    {
      "cell_type": "code",
      "source": [
        "x_var.assign_sub([5,5,5,5,5])"
      ],
      "metadata": {
        "id": "wtxE9Bke4V1s"
      },
      "execution_count": null,
      "outputs": []
    },
    {
      "cell_type": "code",
      "source": [
        "x_var.assign([5,5,5,5,5])"
      ],
      "metadata": {
        "id": "6nw0PQqS4V5N"
      },
      "execution_count": null,
      "outputs": []
    }
  ]
}