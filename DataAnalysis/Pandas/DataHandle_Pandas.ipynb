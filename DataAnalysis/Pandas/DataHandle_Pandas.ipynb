{
 "cells": [
  {
   "cell_type": "code",
   "execution_count": 30,
   "id": "975c1401-8741-49fb-89a8-629b9afef468",
   "metadata": {
    "editable": true,
    "slideshow": {
     "slide_type": ""
    },
    "tags": []
   },
   "outputs": [],
   "source": [
    "import pandas as pd"
   ]
  },
  {
   "cell_type": "code",
   "execution_count": 31,
   "id": "52b31943-99bd-4a19-bbf3-aba875a919e4",
   "metadata": {},
   "outputs": [
    {
     "data": {
      "text/plain": [
       "list"
      ]
     },
     "execution_count": 31,
     "metadata": {},
     "output_type": "execute_result"
    }
   ],
   "source": [
    "flavor = ['mango', 'cherry', 'chocolate']\n",
    "type(flavor)"
   ]
  },
  {
   "cell_type": "code",
   "execution_count": 32,
   "id": "3f76dfb4-22b6-43f7-a37e-42da86e437f6",
   "metadata": {},
   "outputs": [
    {
     "data": {
      "text/plain": [
       "0        mango\n",
       "1       cherry\n",
       "2    chocolate\n",
       "dtype: object"
      ]
     },
     "execution_count": 32,
     "metadata": {},
     "output_type": "execute_result"
    }
   ],
   "source": [
    "pd.Series(flavor)"
   ]
  },
  {
   "cell_type": "code",
   "execution_count": 33,
   "id": "2c0f00cd-9abf-4c7f-994b-c52cc4ab8478",
   "metadata": {},
   "outputs": [
    {
     "data": {
      "text/plain": [
       "str"
      ]
     },
     "execution_count": 33,
     "metadata": {},
     "output_type": "execute_result"
    }
   ],
   "source": [
    "type(flavor[1])"
   ]
  },
  {
   "cell_type": "code",
   "execution_count": 34,
   "id": "ea80bbcd-76f3-4a41-90ad-7651b62ffd35",
   "metadata": {},
   "outputs": [],
   "source": [
    "t = pd.Series(flavor)"
   ]
  },
  {
   "cell_type": "code",
   "execution_count": 35,
   "id": "988db7ad-eb88-4397-a837-efde59cfc15c",
   "metadata": {},
   "outputs": [
    {
     "data": {
      "text/plain": [
       "pandas.core.series.Series"
      ]
     },
     "execution_count": 35,
     "metadata": {},
     "output_type": "execute_result"
    }
   ],
   "source": [
    "type(t)"
   ]
  },
  {
   "cell_type": "code",
   "execution_count": 36,
   "id": "0e32115e-85bd-465c-af2c-f051b2e62874",
   "metadata": {},
   "outputs": [
    {
     "data": {
      "text/plain": [
       "dict"
      ]
     },
     "execution_count": 36,
     "metadata": {},
     "output_type": "execute_result"
    }
   ],
   "source": [
    "t_dic = {'b':1, 'c':2, 'a':3}\n",
    "type(t_dic)"
   ]
  },
  {
   "cell_type": "code",
   "execution_count": 37,
   "id": "86c3bb99-4452-4f03-a03f-7b4550bcf2b5",
   "metadata": {},
   "outputs": [
    {
     "data": {
      "text/plain": [
       "b    1\n",
       "c    2\n",
       "a    3\n",
       "dtype: int64"
      ]
     },
     "execution_count": 37,
     "metadata": {},
     "output_type": "execute_result"
    }
   ],
   "source": [
    "pd.Series(t_dic)"
   ]
  },
  {
   "cell_type": "markdown",
   "id": "acf0711f-17a3-4ca5-9bb7-8c29181cb2f8",
   "metadata": {},
   "source": [
    "#change the index of dictionary"
   ]
  },
  {
   "cell_type": "code",
   "execution_count": 38,
   "id": "44e03e52-85e4-4872-afd2-c7f80611a7f5",
   "metadata": {},
   "outputs": [],
   "source": [
    "t_dic = pd.Series(t_dic, index=['a','b','c'])"
   ]
  },
  {
   "cell_type": "code",
   "execution_count": 39,
   "id": "ea2db210-72a0-44f8-81df-563e36e47594",
   "metadata": {},
   "outputs": [],
   "source": [
    "s = t_dic"
   ]
  },
  {
   "cell_type": "code",
   "execution_count": 40,
   "id": "4347b60e-fba2-4b04-b486-dd4b73e5196e",
   "metadata": {},
   "outputs": [
    {
     "data": {
      "text/plain": [
       "pandas.core.series.Series"
      ]
     },
     "execution_count": 40,
     "metadata": {},
     "output_type": "execute_result"
    }
   ],
   "source": [
    "type(s)"
   ]
  },
  {
   "cell_type": "code",
   "execution_count": 41,
   "id": "7e0081b8-f204-4059-818f-43955b8a2640",
   "metadata": {},
   "outputs": [
    {
     "data": {
      "text/plain": [
       "(3, 1, 2.0, 1.0, 1.0, 2.0, 3)"
      ]
     },
     "execution_count": 41,
     "metadata": {},
     "output_type": "execute_result"
    }
   ],
   "source": [
    "s.max(),s.min(),s.mean(),s.std(),s.var(),s.median(),s.count()"
   ]
  },
  {
   "cell_type": "markdown",
   "id": "cc1e6e9a-4459-490d-8843-124ed6d9a51e",
   "metadata": {},
   "source": [
    "Read Files As Pandas Series"
   ]
  },
  {
   "cell_type": "code",
   "execution_count": 42,
   "id": "f06ef982-dc07-4f01-b4a2-1ad272cfa3ac",
   "metadata": {},
   "outputs": [
    {
     "data": {
      "text/plain": [
       "(        Pokemon\n",
       " 0     Bulbasaur\n",
       " 1       Ivysaur\n",
       " 2      Venusaur\n",
       " 3    Charmander\n",
       " 4    Charmeleon\n",
       " ..          ...\n",
       " 716     Yveltal\n",
       " 717     Zygarde\n",
       " 718     Diancie\n",
       " 719       Hoopa\n",
       " 720   Volcanion\n",
       " \n",
       " [721 rows x 1 columns],\n",
       " pandas.core.frame.DataFrame)"
      ]
     },
     "execution_count": 42,
     "metadata": {},
     "output_type": "execute_result"
    }
   ],
   "source": [
    "t = pd.read_csv(\"../../data/pokemon.csv\", usecols=['Pokemon'])\n",
    "t, type(t)"
   ]
  },
  {
   "cell_type": "markdown",
   "id": "9f71a58d-25f4-47f5-b535-5df320ce1621",
   "metadata": {},
   "source": [
    "Use Squeeze() method to transform from Frame to Series"
   ]
  },
  {
   "cell_type": "code",
   "execution_count": 43,
   "id": "5b376706-8379-409c-8e8b-cfbf450af782",
   "metadata": {},
   "outputs": [
    {
     "data": {
      "text/plain": [
       "(0       Bulbasaur\n",
       " 1         Ivysaur\n",
       " 2        Venusaur\n",
       " 3      Charmander\n",
       " 4      Charmeleon\n",
       "           ...    \n",
       " 716       Yveltal\n",
       " 717       Zygarde\n",
       " 718       Diancie\n",
       " 719         Hoopa\n",
       " 720     Volcanion\n",
       " Name: Pokemon, Length: 721, dtype: object,\n",
       " pandas.core.series.Series)"
      ]
     },
     "execution_count": 43,
     "metadata": {},
     "output_type": "execute_result"
    }
   ],
   "source": [
    "#Use Squeeze() method to transform from Frame to Series\n",
    "t = pd.read_csv(\"../../data/pokemon.csv\", usecols=['Pokemon']).squeeze()\n",
    "t, type(t)"
   ]
  },
  {
   "cell_type": "code",
   "execution_count": 45,
   "id": "16cbf38b-7121-4b8b-ad46-f8a0559cbbb5",
   "metadata": {},
   "outputs": [
    {
     "data": {
      "text/plain": [
       "721"
      ]
     },
     "execution_count": 45,
     "metadata": {},
     "output_type": "execute_result"
    }
   ],
   "source": [
    "len(t)\n"
   ]
  },
  {
   "cell_type": "code",
   "execution_count": null,
   "id": "db20cbf7-616b-4b1e-adaf-3eb6014c43ed",
   "metadata": {},
   "outputs": [],
   "source": []
  }
 ],
 "metadata": {
  "kernelspec": {
   "display_name": "Python 3 (ipykernel)",
   "language": "python",
   "name": "python3"
  },
  "language_info": {
   "codemirror_mode": {
    "name": "ipython",
    "version": 3
   },
   "file_extension": ".py",
   "mimetype": "text/x-python",
   "name": "python",
   "nbconvert_exporter": "python",
   "pygments_lexer": "ipython3",
   "version": "3.12.3"
  }
 },
 "nbformat": 4,
 "nbformat_minor": 5
}
